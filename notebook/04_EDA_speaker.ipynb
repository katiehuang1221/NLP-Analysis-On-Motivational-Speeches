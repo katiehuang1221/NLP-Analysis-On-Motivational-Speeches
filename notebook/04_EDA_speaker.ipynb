{
 "cells": [
  {
   "cell_type": "code",
   "execution_count": null,
   "metadata": {},
   "outputs": [],
   "source": [
    "\"\"\"\n",
    "Visualization of speaker statistics\n",
    "\n",
    "\"\"\""
   ]
  },
  {
   "cell_type": "code",
   "execution_count": null,
   "metadata": {},
   "outputs": [],
   "source": [
    "import re, itertools\n",
    "import networkx as nx\n",
    "\n",
    "import pandas as pd\n",
    "import numpy as np\n",
    "import matplotlib.pyplot as plt\n",
    "\n",
    "%load_ext autoreload\n",
    "%autoreload 2\n",
    "import sys\n",
    "sys.path.append('/Users/katiehuang/Desktop/metis/projects/onl_ds5_project_4/py')\n",
    "from word_cloud import *\n",
    "import importlib"
   ]
  },
  {
   "cell_type": "code",
   "execution_count": null,
   "metadata": {},
   "outputs": [],
   "source": [
    "speaker_info = pd.read_pickle('../dump/speaker_info_allp')"
   ]
  },
  {
   "cell_type": "code",
   "execution_count": null,
   "metadata": {},
   "outputs": [],
   "source": [
    "# Drop speaker if there's missing values\n",
    "speaker_info_cut = speaker_info.dropna()\n",
    "speaker_info_cut.shape"
   ]
  },
  {
   "cell_type": "code",
   "execution_count": null,
   "metadata": {},
   "outputs": [],
   "source": [
    "# List speaker professions\n",
    "professions = speaker_info_cut.profession.tolist()\n",
    "professions = [profession.lower() for profession in professions]\n",
    "len(professions),\n",
    "# professions"
   ]
  },
  {
   "cell_type": "code",
   "execution_count": null,
   "metadata": {},
   "outputs": [],
   "source": [
    "# Categorize speaker professions\n",
    "\n",
    "category =[]\n",
    "\n",
    "publish = ['novelist','writer','author','cartoonist','poet','journalist',\n",
    "           'illustrator','comic','memoirist']\n",
    "med_law = ['physician','surgeon','psychologist','neurosurgeon','lawyer','gynecologist','judge']\n",
    "entertainment = ['humorist','filmmaker','actress','actor','host','comedian',\n",
    "                 'director','songwriter','commentator','screenwriter','producer',\n",
    "                 'podcaster','personality','designer','broadcaster',\n",
    "                 'playwright','animator',]\n",
    "art = ['artist','musician','composer','trumpeter','mezzo-soprano']\n",
    "sport = ['player','soccer','basketball','sportscaster','baseball','coach','skier',\n",
    "         'nfl','sports announcer','rower','tennis','football']\n",
    "tech_business = ['entrepreneur','executive','chief','ceo','senior vice president',\n",
    "                 'businesswoman','businessman','business','boeing','philanthropist']\n",
    "science = ['astrophysicist','astronaut','biologist','scientist','science']\n",
    "education_research = ['researcher','economist','educator','university',\n",
    "                      'environmentalist','philosopher','professor']\n",
    "politics = ['police','senator','businessperson','first lady','united states',\n",
    "            'admiral','presidential','governor','political','mayor','legislative',\n",
    "            'u.s. president','navy','officer','official','president of ireland',]\n",
    "other = ['spiritual']\n",
    "\n",
    "categories = [publish, publish, med_law ,entertainment, sport, tech_business,\n",
    "              science, politics, education_research, other]\n",
    "\n",
    "for profession in professions:\n",
    "    if any(x in profession for x in publish):\n",
    "        category.append('Publish')\n",
    "    elif any(x in profession for x in med_law):\n",
    "        category.append('Med/Law')\n",
    "    elif any(x in profession for x in entertainment):\n",
    "        category.append('Entertainment')\n",
    "    elif any(x in profession for x in art):\n",
    "        category.append('Art')\n",
    "    elif any(x in profession for x in sport):\n",
    "        category.append('Sport')\n",
    "    elif any(x in profession for x in tech_business):\n",
    "        category.append('Tech/Business')\n",
    "    elif any(x in profession for x in science):\n",
    "        category.append('Science')\n",
    "    elif any(x in profession for x in politics):\n",
    "        category.append('Politics')\n",
    "    elif any(x in profession for x in education_research):\n",
    "        category.append('Education/Research')\n",
    "    else:\n",
    "        category.append('Other')"
   ]
  },
  {
   "cell_type": "code",
   "execution_count": null,
   "metadata": {},
   "outputs": [],
   "source": [
    "len(category)"
   ]
  },
  {
   "cell_type": "code",
   "execution_count": null,
   "metadata": {},
   "outputs": [],
   "source": [
    "speaker_info_cut['category'] = category"
   ]
  },
  {
   "cell_type": "code",
   "execution_count": null,
   "metadata": {},
   "outputs": [],
   "source": [
    "speaker_info_cut"
   ]
  },
  {
   "cell_type": "code",
   "execution_count": null,
   "metadata": {},
   "outputs": [],
   "source": [
    "plt.rcParams['figure.figsize'] = [20, 8]\n",
    "speaker_info_cut.category.value_counts().plot(kind='pie');"
   ]
  },
  {
   "cell_type": "code",
   "execution_count": null,
   "metadata": {},
   "outputs": [],
   "source": [
    "speaker_info_cut[speaker_info_cut.category == \"Other\"]"
   ]
  },
  {
   "cell_type": "code",
   "execution_count": null,
   "metadata": {},
   "outputs": [],
   "source": []
  },
  {
   "cell_type": "code",
   "execution_count": null,
   "metadata": {},
   "outputs": [],
   "source": [
    "# Pickle\n",
    "speaker_info_cut.to_pickle('../dump/speaker_info_cut')"
   ]
  },
  {
   "cell_type": "code",
   "execution_count": null,
   "metadata": {},
   "outputs": [],
   "source": []
  },
  {
   "cell_type": "code",
   "execution_count": null,
   "metadata": {},
   "outputs": [],
   "source": []
  },
  {
   "cell_type": "code",
   "execution_count": null,
   "metadata": {},
   "outputs": [],
   "source": []
  },
  {
   "cell_type": "code",
   "execution_count": null,
   "metadata": {},
   "outputs": [],
   "source": []
  }
 ],
 "metadata": {
  "kernelspec": {
   "display_name": "Python 3",
   "language": "python",
   "name": "python3"
  },
  "language_info": {
   "codemirror_mode": {
    "name": "ipython",
    "version": 3
   },
   "file_extension": ".py",
   "mimetype": "text/x-python",
   "name": "python",
   "nbconvert_exporter": "python",
   "pygments_lexer": "ipython3",
   "version": "3.8.5"
  }
 },
 "nbformat": 4,
 "nbformat_minor": 4
}

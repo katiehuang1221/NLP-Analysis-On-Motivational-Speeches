{
 "cells": [
  {
   "cell_type": "code",
   "execution_count": null,
   "metadata": {},
   "outputs": [],
   "source": [
    "\"\"\"\n",
    "Explore network analysis\n",
    "\n",
    "Include notes from DataCramp.\n",
    "\n",
    "\"\"\""
   ]
  },
  {
   "cell_type": "code",
   "execution_count": 1,
   "metadata": {},
   "outputs": [],
   "source": [
    "import matplotlib.pyplot as plt\n",
    "import networkx as nx"
   ]
  },
  {
   "cell_type": "code",
   "execution_count": null,
   "metadata": {},
   "outputs": [],
   "source": [
    "# Draw the graph to screen\n",
    "nx.draw(T_sub)\n",
    "plt.show()"
   ]
  },
  {
   "cell_type": "markdown",
   "metadata": {},
   "source": [
    "The .nodes() method returns a list of nodes, \n",
    "while the .edges() method returns a list of tuples.\n",
    "Recall that passing in the keyword argument data=True in these methods retrieves the corresponding metadata associated with the nodes and edges as well."
   ]
  },
  {
   "cell_type": "code",
   "execution_count": null,
   "metadata": {},
   "outputs": [],
   "source": [
    "T.nodes(data=True)\n",
    ">> NodeDataView({1: {'category': 'I', 'occupation': 'politician'}, 3: {'category': 'D', 'occupation': 'celebrity'},...})"
   ]
  },
  {
   "cell_type": "code",
   "execution_count": null,
   "metadata": {},
   "outputs": [],
   "source": [
    "T.edges(data=True)\n",
    ">> OutEdgeDataView([(1, 3, {'date': datetime.date(2012, 11, 16)}),...])"
   ]
  },
  {
   "cell_type": "markdown",
   "metadata": {},
   "source": [
    "* Undirected (Graph). Ex: Facebook\n",
    "\n",
    "* Directed (DiGraph). Ex: twitter (follow)\n",
    "\n",
    "* MultiGraph. Ex: trip records between bike sharing stations. Collapsed with \"weight\" for each edge\n",
    "\n",
    "    - `network_name.edges[node1, node2]['attribute'] = value`\n",
    "    - `'attribute'` = `'weight'`\n",
    "\n",
    "* Self-loop. Nodes that are connected to themselves\n",
    "\n",
    "    - `.number_of_selfloops()`"
   ]
  },
  {
   "cell_type": "markdown",
   "metadata": {},
   "source": [
    "## Visualization\n",
    "\n",
    "### 1. Matrix plots\n",
    "\n",
    "Undirected (symmetric)  \n",
    "Directed (may not be symmetric)\n",
    "\n",
    "### 2. Arc plots\n",
    "\n",
    "Ordered axis (Ex: transportation)\n",
    "\n",
    "\n",
    "### 3. Circos plots\n",
    "\n",
    "**nxviz API** (Originally for genomics. All nodes form a circle).\n",
    "\n",
    "\n",
    "A corresponding `nx.from_numpy_matrix(A)` allows one to quickly create a graph from a NumPy matrix. The default graph type is `Graph()`; if you want to make it a `DiGraph()`, that has to be specified using the `create_using` keyword argument, e.g. (`nx.from_numpy_matrix(A, create_using=nx.DiGraph`))."
   ]
  },
  {
   "cell_type": "code",
   "execution_count": null,
   "metadata": {},
   "outputs": [],
   "source": [
    "# Matrix Plot\n",
    "\n",
    "# Import nxviz\n",
    "import nxviz as nv\n",
    "\n",
    "# Create the MatrixPlot object: m\n",
    "m = nv.MatrixPlot(T)\n",
    "\n",
    "# Draw m to the screen\n",
    "m.draw()\n",
    "\n",
    "# Display the plot\n",
    "plt.show()\n",
    "\n",
    "# Convert T to a matrix format: A\n",
    "A = nx.to_numpy_matrix(T)\n",
    "\n",
    "# Convert A back to the NetworkX form as a directed graph: T_conv\n",
    "T_conv = nx.from_numpy_matrix(A, create_using=nx.DiGraph())\n",
    "\n",
    "# Check that the `category` metadata field is lost from each node\n",
    "for n, d in T_conv.nodes(data=True):\n",
    "    assert 'category' not in d.keys()"
   ]
  },
  {
   "cell_type": "code",
   "execution_count": null,
   "metadata": {},
   "outputs": [],
   "source": [
    "# Circos Plot\n",
    "\n",
    "# Import necessary modules\n",
    "import matplotlib.pyplot as plt\n",
    "from nxviz import CircosPlot \n",
    "\n",
    "# Create the CircosPlot object: c\n",
    "c = CircosPlot(T)\n",
    "\n",
    "# Draw c to the screen\n",
    "c.draw()\n",
    "\n",
    "# Display the plot\n",
    "plt.show()"
   ]
  },
  {
   "cell_type": "code",
   "execution_count": null,
   "metadata": {},
   "outputs": [],
   "source": [
    "# Arc Plot\n",
    "\n",
    "# Import necessary modules\n",
    "import matplotlib.pyplot as plt\n",
    "from nxviz import ArcPlot\n",
    "\n",
    "# Create the un-customized ArcPlot object: a\n",
    "a = ArcPlot(T)\n",
    "\n",
    "# Draw a to the screen\n",
    "a.draw()\n",
    "\n",
    "# Display the plot\n",
    "plt.show()\n",
    "\n",
    "# Create the customized ArcPlot object: a2\n",
    "a2 = ArcPlot(T,node_order='category',node_color='category')\n",
    "\n",
    "# Draw a2 to the screen\n",
    "a2.draw()\n",
    "\n",
    "# Display the plot\n",
    "plt.show()"
   ]
  },
  {
   "cell_type": "code",
   "execution_count": null,
   "metadata": {},
   "outputs": [],
   "source": []
  },
  {
   "cell_type": "markdown",
   "metadata": {},
   "source": [
    "## Degree centrality\n",
    "\n",
    "### 1. Degree centrality\n",
    "\n",
    "Important nodes (more edges).\n",
    "\n",
    "* The number of neighbors that a node has is called its \"degree\"\n",
    "* The degree of a node is the number of neighbors that it has.\n",
    "\n",
    "* Degree centrality =  of neighbors I have / \\# of neighbors I could possibly have  \n",
    "Ex: twitter broadcasters, airport transportation hubs, disease super-spreaders\n",
    "\n",
    "`G.neighbors(node)`  \n",
    "`nx.degree_centrality(G)`: {node: degree centrality}"
   ]
  },
  {
   "cell_type": "code",
   "execution_count": null,
   "metadata": {},
   "outputs": [],
   "source": [
    "# Import matplotlib.pyplot\n",
    "import matplotlib.pyplot as plt\n",
    "\n",
    "# Compute the degree centrality of the Twitter network: deg_cent\n",
    "deg_cent = nx.degree_centrality(T)\n",
    "\n",
    "# Plot a histogram of the degree centrality distribution of the graph.\n",
    "plt.figure()\n",
    "plt.hist(list(deg_cent.values()))\n",
    "plt.show()\n",
    "\n",
    "# Plot a histogram of the degree distribution of the graph\n",
    "plt.figure()\n",
    "plt.hist(degrees)\n",
    "plt.show()\n",
    "\n",
    "# Plot a scatter plot of the centrality distribution and the degree distribution\n",
    "plt.figure()\n",
    "plt.scatter(x=degrees, y=list(deg_cent.values()))\n",
    "plt.show()"
   ]
  },
  {
   "cell_type": "code",
   "execution_count": null,
   "metadata": {},
   "outputs": [],
   "source": []
  },
  {
   "cell_type": "markdown",
   "metadata": {},
   "source": [
    "### Graph algorrithms\n",
    "\n",
    "#### 1. Finding paths\n",
    "* Optimization: shortest transport paths\n",
    "* Modeling: disease spread, information passing\n",
    "\n",
    "#### Breadth-first search (BFS)\n",
    "Shorest path between two nodes\n",
    "\n",
    "```\n",
    "G\n",
    "len(G.edges())\n",
    "len(G.nodes())\n",
    "\n",
    "G.neighbors(node)\n",
    "G.neighbors(next neighbor)\n",
    "```"
   ]
  },
  {
   "cell_type": "markdown",
   "metadata": {},
   "source": [
    "### 2. Betweenness centrality\n",
    "\n",
    "All shortest paths: a set of path where each path is the shortest path between a given pair of nodes.  \n",
    "Betweenness centrality = \n",
    "\\# of shortest paths through a node / all possible shortest paths existing for every pair of nodes  \n",
    "*Captures bottleneck node in a graph*  \n",
    "    - critical information transfer links\n",
    "    - Barbell example:\n",
    "    \n",
    "```\n",
    "G = nx.barbell_graph(m1=5, m2=1)\n",
    "nx.betweenness_centrality(G)\n",
    "\n",
    "```\n",
    "\n",
    "Nodes located at the end of a barbell are fully connected to each other --> betweenness centrality =0  \n",
    "(There is no shortest path that has to run through these nodes in order to get to the other nodes)."
   ]
  },
  {
   "cell_type": "code",
   "execution_count": null,
   "metadata": {},
   "outputs": [],
   "source": []
  },
  {
   "cell_type": "markdown",
   "metadata": {},
   "source": [
    "## Comunities & cliques\n",
    "\n",
    "* clique: a set of nodes that are completely connected by an edge to every other node \\[completly connected graph\\]\n",
    "* simplest clique: an edge\n",
    "* simplest complex clique: a triangle\n",
    "    - NetworkX provides an API for counting the number of triangles that every node is involved in: `nx.triangles(G)`\n",
    "\n",
    "Application: e.g. friend recommendation systems\n",
    "\n",
    "```\n",
    "G\n",
    "\n",
    "from itertools import combinations\n",
    "for n1, n2 comninations(G.nodes(),2):\n",
    "    print(n1,n2)\n",
    "\n",
    "```\n",
    "\n",
    "### Maximal cliques\n",
    "Definition: a clique that, when extended by one node is no longer a clique  \n",
    "Application: community finding (finding union of cliques)\n",
    "\n",
    "```\n",
    "nx.find_cliques(G)\n",
    "list(nx.find_cliques(G))\n",
    "\n",
    "```\n",
    "\n",
    "\n",
    "### Subgraphs\n",
    "Visualize portions of a large graph (path, communities/cliques, degrees of separation from a node)\n",
    "\n",
    "```\n",
    "G = nx.erdos_renyi_graph(n=20, p=0.2) #n=number of nodes, p=probability that an edge exists between a given pair of nodes\n",
    "\n",
    "nodes = G.neighbors(8)\n",
    "nodes.append(8)\n",
    "\n",
    "G_eight = G.subgraph(nodes)\n",
    "nx.draw(G_eight, with_labels=True)\n",
    "\n",
    "```\n",
    "\n",
    "#### Connected component subgraphs\n",
    "A set of nodes connected to some nodes but not conneted to other nodes in the larger graph.\n",
    "```\n",
    "G = nx.errdos_renyi_graph(N=100, p=0.03)\n",
    "list((nx.connected_component_subgraphs(G))\n",
    "\n",
    "```"
   ]
  },
  {
   "cell_type": "code",
   "execution_count": null,
   "metadata": {},
   "outputs": [],
   "source": [
    "# Extract the nodes of interest: nodes\n",
    "nodes = [n for n, d in T.nodes(data=True) if d['occupation'] == 'celebrity']\n",
    "\n",
    "# Create the set of nodes: nodeset\n",
    "nodeset = set(nodes)\n",
    "\n",
    "# Iterate over nodes\n",
    "for n in nodes:\n",
    "\n",
    "    # Compute the neighbors of n: nbrs\n",
    "    nbrs = T.neighbors(n)\n",
    "\n",
    "    # Compute the union of nodeset and nbrs: nodeset\n",
    "    nodeset = nodeset.union(nbrs)\n",
    "\n",
    "# Compute the subgraph using nodeset: T_sub\n",
    "T_sub = T.subgraph(nodeset)\n",
    "\n",
    "# Draw T_sub to the screen\n",
    "nx.draw(T_sub)\n",
    "plt.show()"
   ]
  },
  {
   "cell_type": "code",
   "execution_count": null,
   "metadata": {},
   "outputs": [],
   "source": []
  }
 ],
 "metadata": {
  "kernelspec": {
   "display_name": "Python 3",
   "language": "python",
   "name": "python3"
  },
  "language_info": {
   "codemirror_mode": {
    "name": "ipython",
    "version": 3
   },
   "file_extension": ".py",
   "mimetype": "text/x-python",
   "name": "python",
   "nbconvert_exporter": "python",
   "pygments_lexer": "ipython3",
   "version": "3.8.5"
  }
 },
 "nbformat": 4,
 "nbformat_minor": 4
}

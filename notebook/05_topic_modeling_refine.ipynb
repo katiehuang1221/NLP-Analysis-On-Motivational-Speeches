{
 "cells": [
  {
   "cell_type": "code",
   "execution_count": null,
   "metadata": {},
   "outputs": [],
   "source": [
    "\"\"\"\n",
    "Refine topic modeling\n",
    "\n",
    "- Model: NMF (Tf-idf)\n",
    "- Data: divide all transcripts into subgroups\n",
    "- Goal: see the evolution of topic trends\n",
    "\n",
    "\"\"\""
   ]
  },
  {
   "cell_type": "code",
   "execution_count": 2,
   "metadata": {},
   "outputs": [],
   "source": [
    "import pandas as pd\n",
    "import numpy as np\n",
    "import matplotlib.pyplot as plt\n",
    "import seaborn as sns\n",
    "sns.set()\n",
    "\n",
    "from collections import Counter\n",
    "\n",
    "from sklearn.feature_extraction import text \n",
    "from sklearn.feature_extraction.text import CountVectorizer, TfidfVectorizer\n",
    "\n",
    "from sklearn.decomposition import TruncatedSVD\n",
    "from sklearn.cluster import KMeans\n",
    "from sklearn.pipeline import make_pipeline\n",
    "\n",
    "from sklearn.decomposition import NMF\n",
    "from sklearn.preprocessing import normalize\n",
    "\n",
    "from wordcloud import WordCloud\n",
    "\n",
    "from gensim import matutils, models\n",
    "import scipy.sparse\n",
    "\n",
    "import re\n",
    "import string\n",
    "\n",
    "import nltk\n",
    "from nltk import pos_tag\n",
    "from nltk.tokenize import sent_tokenize, word_tokenize\n",
    "from nltk.stem import PorterStemmer\n",
    "from nltk.stem import LancasterStemmer\n",
    "from nltk.stem import WordNetLemmatizer\n",
    "\n",
    "from sklearn.decomposition import TruncatedSVD\n",
    "from sklearn.cluster import KMeans\n",
    "from sklearn.pipeline import make_pipeline\n",
    "\n",
    "\n",
    "%load_ext autoreload\n",
    "%autoreload 2\n",
    "import sys\n",
    "sys.path.append('/Users/katiehuang/Documents/metis/projects/onl_ds5_project_4/py')\n",
    "from word_cloud import *\n",
    "from clean import *\n",
    "import importlib"
   ]
  },
  {
   "cell_type": "code",
   "execution_count": 3,
   "metadata": {},
   "outputs": [],
   "source": [
    "# Let's read in our transcripts and document-term matrix\n",
    "speech_df_raw = pd.read_pickle('../dump/speech_df')\n",
    "speech_df = pd.read_pickle('../dump/speech_clean_lemma')\n",
    "speech_concise = pd.read_pickle('../dump/speech_concise')\n",
    "# data = pd.read_pickle('../dump/data_dtm_lemma.pkl')\n",
    "# tdm = data.transpose()\n",
    "# tdm.shape"
   ]
  },
  {
   "cell_type": "code",
   "execution_count": null,
   "metadata": {},
   "outputs": [],
   "source": []
  },
  {
   "cell_type": "markdown",
   "metadata": {},
   "source": [
    "## 1. Divide the transcripts base on time\n",
    "Aim to divied into 5 parts; each ~ 90 speeches.\n",
    "1. Pre 2003\n",
    "2. 2003-2009\n",
    "3. 2009-2012\n",
    "4. 2012-2015\n",
    "5. 2015-"
   ]
  },
  {
   "cell_type": "code",
   "execution_count": 4,
   "metadata": {},
   "outputs": [
    {
     "data": {
      "text/html": [
       "<div>\n",
       "<style scoped>\n",
       "    .dataframe tbody tr th:only-of-type {\n",
       "        vertical-align: middle;\n",
       "    }\n",
       "\n",
       "    .dataframe tbody tr th {\n",
       "        vertical-align: top;\n",
       "    }\n",
       "\n",
       "    .dataframe thead th {\n",
       "        text-align: right;\n",
       "    }\n",
       "</style>\n",
       "<table border=\"1\" class=\"dataframe\">\n",
       "  <thead>\n",
       "    <tr style=\"text-align: right;\">\n",
       "      <th></th>\n",
       "      <th>speaker</th>\n",
       "      <th>year</th>\n",
       "      <th>transcript</th>\n",
       "      <th>length</th>\n",
       "    </tr>\n",
       "  </thead>\n",
       "  <tbody>\n",
       "    <tr>\n",
       "      <th>440</th>\n",
       "      <td>GARRISON KEILLOR</td>\n",
       "      <td>0</td>\n",
       "      <td>its an honor to be with so many smart people a...</td>\n",
       "      <td>8063</td>\n",
       "    </tr>\n",
       "    <tr>\n",
       "      <th>439</th>\n",
       "      <td>RALPH WALDO</td>\n",
       "      <td>1838</td>\n",
       "      <td>in this refulgent summer it have be a luxury t...</td>\n",
       "      <td>40403</td>\n",
       "    </tr>\n",
       "    <tr>\n",
       "      <th>438</th>\n",
       "      <td>OPRAH WINFREY</td>\n",
       "      <td>1918</td>\n",
       "      <td>thank you wallis annenberg and a special thank...</td>\n",
       "      <td>15301</td>\n",
       "    </tr>\n",
       "    <tr>\n",
       "      <th>437</th>\n",
       "      <td>FRANKLIN D ROOSEVELT</td>\n",
       "      <td>1932</td>\n",
       "      <td>for me as for you this be a day of honorable a...</td>\n",
       "      <td>16017</td>\n",
       "    </tr>\n",
       "    <tr>\n",
       "      <th>436</th>\n",
       "      <td>CARRIE CHAPMAN</td>\n",
       "      <td>1936</td>\n",
       "      <td>i bring a message to sweet briar college and e...</td>\n",
       "      <td>22942</td>\n",
       "    </tr>\n",
       "    <tr>\n",
       "      <th>...</th>\n",
       "      <td>...</td>\n",
       "      <td>...</td>\n",
       "      <td>...</td>\n",
       "      <td>...</td>\n",
       "    </tr>\n",
       "    <tr>\n",
       "      <th>4</th>\n",
       "      <td>JESMYN WARD</td>\n",
       "      <td>2018</td>\n",
       "      <td>persist be patient be well good morning it be ...</td>\n",
       "      <td>14063</td>\n",
       "    </tr>\n",
       "    <tr>\n",
       "      <th>3</th>\n",
       "      <td>MINDY KALING</td>\n",
       "      <td>2018</td>\n",
       "      <td>good morning to the class of the faculty the p...</td>\n",
       "      <td>15391</td>\n",
       "    </tr>\n",
       "    <tr>\n",
       "      <th>2</th>\n",
       "      <td>JON B. FISHER</td>\n",
       "      <td>2018</td>\n",
       "      <td>thank you very much my father commencement spe...</td>\n",
       "      <td>8544</td>\n",
       "    </tr>\n",
       "    <tr>\n",
       "      <th>1</th>\n",
       "      <td>ABBY WAMBACK</td>\n",
       "      <td>2018</td>\n",
       "      <td>failure be not something to be ashamed of its ...</td>\n",
       "      <td>15866</td>\n",
       "    </tr>\n",
       "    <tr>\n",
       "      <th>0</th>\n",
       "      <td>SIDDHARTHA MUKHERJEE</td>\n",
       "      <td>2018</td>\n",
       "      <td>i wish someone have tell me at my own commence...</td>\n",
       "      <td>14487</td>\n",
       "    </tr>\n",
       "  </tbody>\n",
       "</table>\n",
       "<p>441 rows × 4 columns</p>\n",
       "</div>"
      ],
      "text/plain": [
       "                  speaker  year  \\\n",
       "440      GARRISON KEILLOR     0   \n",
       "439           RALPH WALDO  1838   \n",
       "438         OPRAH WINFREY  1918   \n",
       "437  FRANKLIN D ROOSEVELT  1932   \n",
       "436        CARRIE CHAPMAN  1936   \n",
       "..                    ...   ...   \n",
       "4             JESMYN WARD  2018   \n",
       "3            MINDY KALING  2018   \n",
       "2           JON B. FISHER  2018   \n",
       "1            ABBY WAMBACK  2018   \n",
       "0    SIDDHARTHA MUKHERJEE  2018   \n",
       "\n",
       "                                            transcript  length  \n",
       "440  its an honor to be with so many smart people a...    8063  \n",
       "439  in this refulgent summer it have be a luxury t...   40403  \n",
       "438  thank you wallis annenberg and a special thank...   15301  \n",
       "437  for me as for you this be a day of honorable a...   16017  \n",
       "436  i bring a message to sweet briar college and e...   22942  \n",
       "..                                                 ...     ...  \n",
       "4    persist be patient be well good morning it be ...   14063  \n",
       "3    good morning to the class of the faculty the p...   15391  \n",
       "2    thank you very much my father commencement spe...    8544  \n",
       "1    failure be not something to be ashamed of its ...   15866  \n",
       "0    i wish someone have tell me at my own commence...   14487  \n",
       "\n",
       "[441 rows x 4 columns]"
      ]
     },
     "execution_count": 4,
     "metadata": {},
     "output_type": "execute_result"
    }
   ],
   "source": [
    "# Examine years\n",
    "sorted_year = speech_df.sort_values('year')\n",
    "sorted_year"
   ]
  },
  {
   "cell_type": "code",
   "execution_count": 5,
   "metadata": {},
   "outputs": [],
   "source": [
    "# Update correct year\n",
    "sorted_year.loc[440,'year'] = 2015\n",
    "sorted_year = sorted_year.sort_values('year')"
   ]
  },
  {
   "cell_type": "code",
   "execution_count": 6,
   "metadata": {},
   "outputs": [
    {
     "data": {
      "text/plain": [
       "(87, 90, 94, 101, 69)"
      ]
     },
     "execution_count": 6,
     "metadata": {},
     "output_type": "execute_result"
    }
   ],
   "source": [
    "# Count number of speech in each time slot\n",
    "speech_df_1 = sorted_year[sorted_year.year<2003]\n",
    "speech_df_2 = sorted_year[(sorted_year.year>= 2003)&(sorted_year.year<2009)]\n",
    "speech_df_3 = sorted_year[(sorted_year.year>= 2009)&(sorted_year.year<2012)]\n",
    "speech_df_4 = sorted_year[(sorted_year.year>= 2012)&(sorted_year.year<2015)]\n",
    "speech_df_5 = sorted_year[sorted_year.year>= 2015]\n",
    "\n",
    "speech_df_1.shape[0],\\\n",
    "speech_df_2.shape[0],\\\n",
    "speech_df_3.shape[0],\\\n",
    "speech_df_4.shape[0],\\\n",
    "speech_df_5.shape[0],"
   ]
  },
  {
   "cell_type": "code",
   "execution_count": null,
   "metadata": {},
   "outputs": [],
   "source": []
  },
  {
   "cell_type": "markdown",
   "metadata": {},
   "source": [
    "## 2. Preparation for topic modeling"
   ]
  },
  {
   "cell_type": "code",
   "execution_count": 7,
   "metadata": {},
   "outputs": [],
   "source": [
    "def topic_modeling(speech_df_x,column_name,num_topic):\n",
    "    \"\"\"\n",
    "    For a given df and column_name (e.g.:'transcript' for all text, 'nouns' for nouns only),\n",
    "    return the topic_word dataframe\n",
    "    \n",
    "    Method: Tf-idf and NMF\n",
    "    \n",
    "    \"\"\"\n",
    "    \n",
    "    # Prepare Tf-idf\n",
    "    tfidf = TfidfVectorizer()\n",
    "    csr_mat = tfidf.fit_transform(speech_df_x[column_name])\n",
    "    doc_word = tfidf_dtm(speech_df_x,column_name)\n",
    "\n",
    "    # Modeling\n",
    "    nmf_model = NMF(num_topic, max_iter=1000)\n",
    "    doc_topic = nmf_model.fit_transform(doc_word)\n",
    "    doc_assigned_topic = doc_topic.argsort(axis=1)[:,-1]\n",
    "\n",
    "    # Use components in NMF model to find the top 10 words for a given topic\n",
    "    topics = nmf_model.components_.argsort(axis=1)[:,-1:-11:-1]\n",
    "\n",
    "    # Create topic_worrd df\n",
    "    words = doc_word.columns\n",
    "    topic_words = [[words[index] for index in topic] for topic in topics]\n",
    "    topic_word_df = pd.DataFrame(topic_words,index=['Topic #' + '{:02d}'.format(i+1) for i in range(num_topic)])\n",
    "    \n",
    "    return topic_word_df"
   ]
  },
  {
   "cell_type": "code",
   "execution_count": 80,
   "metadata": {},
   "outputs": [
    {
     "data": {
      "text/html": [
       "<div>\n",
       "<style scoped>\n",
       "    .dataframe tbody tr th:only-of-type {\n",
       "        vertical-align: middle;\n",
       "    }\n",
       "\n",
       "    .dataframe tbody tr th {\n",
       "        vertical-align: top;\n",
       "    }\n",
       "\n",
       "    .dataframe thead th {\n",
       "        text-align: right;\n",
       "    }\n",
       "</style>\n",
       "<table border=\"1\" class=\"dataframe\">\n",
       "  <thead>\n",
       "    <tr style=\"text-align: right;\">\n",
       "      <th></th>\n",
       "      <th>0</th>\n",
       "      <th>1</th>\n",
       "      <th>2</th>\n",
       "      <th>3</th>\n",
       "      <th>4</th>\n",
       "      <th>5</th>\n",
       "      <th>6</th>\n",
       "      <th>7</th>\n",
       "      <th>8</th>\n",
       "      <th>9</th>\n",
       "    </tr>\n",
       "  </thead>\n",
       "  <tbody>\n",
       "    <tr>\n",
       "      <th>Topic #01</th>\n",
       "      <td>parent</td>\n",
       "      <td>advice</td>\n",
       "      <td>film</td>\n",
       "      <td>story</td>\n",
       "      <td>money</td>\n",
       "      <td>friends</td>\n",
       "      <td>kid</td>\n",
       "      <td>person</td>\n",
       "      <td>movie</td>\n",
       "      <td>play</td>\n",
       "    </tr>\n",
       "    <tr>\n",
       "      <th>Topic #02</th>\n",
       "      <td>women</td>\n",
       "      <td>workers</td>\n",
       "      <td>voice</td>\n",
       "      <td>genius</td>\n",
       "      <td>floor</td>\n",
       "      <td>success</td>\n",
       "      <td>conversation</td>\n",
       "      <td>mother</td>\n",
       "      <td>workforce</td>\n",
       "      <td>skirt</td>\n",
       "    </tr>\n",
       "    <tr>\n",
       "      <th>Topic #03</th>\n",
       "      <td>generation</td>\n",
       "      <td>country</td>\n",
       "      <td>government</td>\n",
       "      <td>community</td>\n",
       "      <td>education</td>\n",
       "      <td>history</td>\n",
       "      <td>nation</td>\n",
       "      <td>nations</td>\n",
       "      <td>century</td>\n",
       "      <td>freedom</td>\n",
       "    </tr>\n",
       "    <tr>\n",
       "      <th>Topic #04</th>\n",
       "      <td>dream</td>\n",
       "      <td>education</td>\n",
       "      <td>mother</td>\n",
       "      <td>father</td>\n",
       "      <td>degree</td>\n",
       "      <td>family</td>\n",
       "      <td>thank</td>\n",
       "      <td>sister</td>\n",
       "      <td>community</td>\n",
       "      <td>value</td>\n",
       "    </tr>\n",
       "    <tr>\n",
       "      <th>Topic #05</th>\n",
       "      <td>fear</td>\n",
       "      <td>generosity</td>\n",
       "      <td>hearts</td>\n",
       "      <td>drum</td>\n",
       "      <td>heart</td>\n",
       "      <td>truth</td>\n",
       "      <td>moment</td>\n",
       "      <td>mind</td>\n",
       "      <td>practice</td>\n",
       "      <td>death</td>\n",
       "    </tr>\n",
       "    <tr>\n",
       "      <th>Topic #06</th>\n",
       "      <td>team</td>\n",
       "      <td>tennis</td>\n",
       "      <td>sport</td>\n",
       "      <td>game</td>\n",
       "      <td>player</td>\n",
       "      <td>coach</td>\n",
       "      <td>baseball</td>\n",
       "      <td>dream</td>\n",
       "      <td>soccer</td>\n",
       "      <td>percent</td>\n",
       "    </tr>\n",
       "    <tr>\n",
       "      <th>Topic #07</th>\n",
       "      <td>art</td>\n",
       "      <td>science</td>\n",
       "      <td>book</td>\n",
       "      <td>paint</td>\n",
       "      <td>artist</td>\n",
       "      <td>shell</td>\n",
       "      <td>scientist</td>\n",
       "      <td>course</td>\n",
       "      <td>botany</td>\n",
       "      <td>seashells</td>\n",
       "    </tr>\n",
       "    <tr>\n",
       "      <th>Topic #08</th>\n",
       "      <td>company</td>\n",
       "      <td>business</td>\n",
       "      <td>journey</td>\n",
       "      <td>career</td>\n",
       "      <td>passion</td>\n",
       "      <td>technology</td>\n",
       "      <td>selfconfidence</td>\n",
       "      <td>leadership</td>\n",
       "      <td>confidence</td>\n",
       "      <td>engineer</td>\n",
       "    </tr>\n",
       "  </tbody>\n",
       "</table>\n",
       "</div>"
      ],
      "text/plain": [
       "                    0           1           2          3          4  \\\n",
       "Topic #01      parent      advice        film      story      money   \n",
       "Topic #02       women     workers       voice     genius      floor   \n",
       "Topic #03  generation     country  government  community  education   \n",
       "Topic #04       dream   education      mother     father     degree   \n",
       "Topic #05        fear  generosity      hearts       drum      heart   \n",
       "Topic #06        team      tennis       sport       game     player   \n",
       "Topic #07         art     science        book      paint     artist   \n",
       "Topic #08     company    business     journey     career    passion   \n",
       "\n",
       "                    5               6           7           8          9  \n",
       "Topic #01     friends             kid      person       movie       play  \n",
       "Topic #02     success    conversation      mother   workforce      skirt  \n",
       "Topic #03     history          nation     nations     century    freedom  \n",
       "Topic #04      family           thank      sister   community      value  \n",
       "Topic #05       truth          moment        mind    practice      death  \n",
       "Topic #06       coach        baseball       dream      soccer    percent  \n",
       "Topic #07       shell       scientist      course      botany  seashells  \n",
       "Topic #08  technology  selfconfidence  leadership  confidence   engineer  "
      ]
     },
     "execution_count": 80,
     "metadata": {},
     "output_type": "execute_result"
    }
   ],
   "source": [
    "# First use the topic model on all transcripts\n",
    "\n",
    "num_topic = 8\n",
    "speech_df_x = wash(speech_concise,'transcript').copy()\n",
    "topic_df = topic_modeling(speech_df_x,'nouns',num_topic)\n",
    "topic_df"
   ]
  },
  {
   "cell_type": "code",
   "execution_count": 82,
   "metadata": {},
   "outputs": [],
   "source": [
    "# Find assigned_topic\n",
    "\n",
    "tfidf = TfidfVectorizer()\n",
    "csr_mat = tfidf.fit_transform(speech_df_x['nouns'])\n",
    "doc_word = tfidf_dtm(speech_df_x,'nouns')\n",
    "\n",
    "# Modeling\n",
    "nmf_model = NMF(num_topic, max_iter=1000)\n",
    "doc_topic = nmf_model.fit_transform(doc_word)\n",
    "\n",
    "# Array of assigned topic\n",
    "doc_assigned_topic = doc_topic.argsort(axis=1)[:,-1]+1"
   ]
  },
  {
   "cell_type": "code",
   "execution_count": 83,
   "metadata": {},
   "outputs": [],
   "source": [
    "# Create column for topic\n",
    "speech_df_x['topic'] = doc_assigned_topic"
   ]
  },
  {
   "cell_type": "code",
   "execution_count": 84,
   "metadata": {},
   "outputs": [
    {
     "data": {
      "text/html": [
       "<div>\n",
       "<style scoped>\n",
       "    .dataframe tbody tr th:only-of-type {\n",
       "        vertical-align: middle;\n",
       "    }\n",
       "\n",
       "    .dataframe tbody tr th {\n",
       "        vertical-align: top;\n",
       "    }\n",
       "\n",
       "    .dataframe thead th {\n",
       "        text-align: right;\n",
       "    }\n",
       "</style>\n",
       "<table border=\"1\" class=\"dataframe\">\n",
       "  <thead>\n",
       "    <tr style=\"text-align: right;\">\n",
       "      <th></th>\n",
       "      <th>speaker</th>\n",
       "      <th>year</th>\n",
       "      <th>school</th>\n",
       "      <th>transcript</th>\n",
       "      <th>transcript_clean</th>\n",
       "      <th>category</th>\n",
       "      <th>age</th>\n",
       "      <th>age_then</th>\n",
       "      <th>age_cat</th>\n",
       "      <th>region</th>\n",
       "      <th>nouns</th>\n",
       "      <th>topic</th>\n",
       "    </tr>\n",
       "  </thead>\n",
       "  <tbody>\n",
       "    <tr>\n",
       "      <th>0</th>\n",
       "      <td>CARLY FIORINA</td>\n",
       "      <td>2000</td>\n",
       "      <td>MIT</td>\n",
       "      <td>like to start my remark this morning with spec...</td>\n",
       "      <td>I'd start remarks morning special thanks sent ...</td>\n",
       "      <td>Tech/Business</td>\n",
       "      <td>66</td>\n",
       "      <td>46</td>\n",
       "      <td>40-50</td>\n",
       "      <td>east</td>\n",
       "      <td>remark morning thank couple weeks speech comme...</td>\n",
       "      <td>4</td>\n",
       "    </tr>\n",
       "    <tr>\n",
       "      <th>1</th>\n",
       "      <td>J.K. ROWLING</td>\n",
       "      <td>2008</td>\n",
       "      <td>Harvard University</td>\n",
       "      <td>i have wrack my mind and heart for what i ough...</td>\n",
       "      <td>EXCERPTS Actually, I wracked mind heart I ough...</td>\n",
       "      <td>Publish</td>\n",
       "      <td>55</td>\n",
       "      <td>43</td>\n",
       "      <td>40-50</td>\n",
       "      <td>east</td>\n",
       "      <td>i mind heart i today i i graduation lessons ye...</td>\n",
       "      <td>5</td>\n",
       "    </tr>\n",
       "    <tr>\n",
       "      <th>2</th>\n",
       "      <td>JEAN ANDREWS</td>\n",
       "      <td>2003</td>\n",
       "      <td>University of Texas at Austin</td>\n",
       "      <td>when invite me to present the commencement add...</td>\n",
       "      <td>\\nWhen Dean Rankin invited present commencemen...</td>\n",
       "      <td>Education/Research</td>\n",
       "      <td>97</td>\n",
       "      <td>80</td>\n",
       "      <td>80-90</td>\n",
       "      <td>central</td>\n",
       "      <td>commencement address class graduate i anyone y...</td>\n",
       "      <td>7</td>\n",
       "    </tr>\n",
       "    <tr>\n",
       "      <th>3</th>\n",
       "      <td>MIKE TOMLIN</td>\n",
       "      <td>2008</td>\n",
       "      <td>Saint Vincent College</td>\n",
       "      <td>some excerpt as find in want to encourage you ...</td>\n",
       "      <td>Some excerpts Post Gazette:\\n\\n    \"I encourag...</td>\n",
       "      <td>Sport</td>\n",
       "      <td>48</td>\n",
       "      <td>36</td>\n",
       "      <td>30-40</td>\n",
       "      <td>east</td>\n",
       "      <td>excerpt find want preparation game life minute...</td>\n",
       "      <td>6</td>\n",
       "    </tr>\n",
       "    <tr>\n",
       "      <th>4</th>\n",
       "      <td>AARON SORKIN</td>\n",
       "      <td>2012</td>\n",
       "      <td>SYRACUSE UNIVERSITY</td>\n",
       "      <td>you very much members of the of members of the...</td>\n",
       "      <td>Thank much.  Madam Chancellor, members Board T...</td>\n",
       "      <td>Publish</td>\n",
       "      <td>59</td>\n",
       "      <td>51</td>\n",
       "      <td>50-60</td>\n",
       "      <td>east</td>\n",
       "      <td>members members faculty administration parent ...</td>\n",
       "      <td>1</td>\n",
       "    </tr>\n",
       "  </tbody>\n",
       "</table>\n",
       "</div>"
      ],
      "text/plain": [
       "          speaker  year                         school  \\\n",
       "0   CARLY FIORINA  2000                           MIT    \n",
       "1    J.K. ROWLING  2008            Harvard University    \n",
       "2    JEAN ANDREWS  2003  University of Texas at Austin   \n",
       "3     MIKE TOMLIN  2008         Saint Vincent College    \n",
       "4    AARON SORKIN  2012            SYRACUSE UNIVERSITY   \n",
       "\n",
       "                                          transcript  \\\n",
       "0  like to start my remark this morning with spec...   \n",
       "1  i have wrack my mind and heart for what i ough...   \n",
       "2  when invite me to present the commencement add...   \n",
       "3  some excerpt as find in want to encourage you ...   \n",
       "4  you very much members of the of members of the...   \n",
       "\n",
       "                                    transcript_clean            category  age  \\\n",
       "0  I'd start remarks morning special thanks sent ...       Tech/Business   66   \n",
       "1  EXCERPTS Actually, I wracked mind heart I ough...             Publish   55   \n",
       "2  \\nWhen Dean Rankin invited present commencemen...  Education/Research   97   \n",
       "3  Some excerpts Post Gazette:\\n\\n    \"I encourag...               Sport   48   \n",
       "4  Thank much.  Madam Chancellor, members Board T...             Publish   59   \n",
       "\n",
       "   age_then age_cat   region  \\\n",
       "0        46   40-50     east   \n",
       "1        43   40-50     east   \n",
       "2        80   80-90  central   \n",
       "3        36   30-40     east   \n",
       "4        51   50-60     east   \n",
       "\n",
       "                                               nouns  topic  \n",
       "0  remark morning thank couple weeks speech comme...      4  \n",
       "1  i mind heart i today i i graduation lessons ye...      5  \n",
       "2  commencement address class graduate i anyone y...      7  \n",
       "3  excerpt find want preparation game life minute...      6  \n",
       "4  members members faculty administration parent ...      1  "
      ]
     },
     "execution_count": 84,
     "metadata": {},
     "output_type": "execute_result"
    }
   ],
   "source": [
    "speech_df_x.head()"
   ]
  },
  {
   "cell_type": "code",
   "execution_count": 12,
   "metadata": {},
   "outputs": [],
   "source": [
    "# # Pickle\n",
    "# speech_df_x.to_pickle('../dump/speech_topic_NMF')"
   ]
  },
  {
   "cell_type": "code",
   "execution_count": 69,
   "metadata": {},
   "outputs": [],
   "source": [
    "# speech_df_x.iloc[1].transcript"
   ]
  },
  {
   "cell_type": "code",
   "execution_count": 19,
   "metadata": {},
   "outputs": [
    {
     "data": {
      "image/png": "[encoded data removed]",
      "text/plain": [
       "<Figure size 432x288 with 1 Axes>"
      ]
     },
     "metadata": {},
     "output_type": "display_data"
    }
   ],
   "source": [
    "# 10\n",
    "# Check topic distribution over time\n",
    "dist_df = speech_df_x.topic.value_counts()\n",
    "dist_df.plot.pie(y='topic');"
   ]
  },
  {
   "cell_type": "code",
   "execution_count": 39,
   "metadata": {},
   "outputs": [
    {
     "data": {
      "image/png": "[encoded data removed]",
      "text/plain": [
       "<Figure size 432x288 with 1 Axes>"
      ]
     },
     "metadata": {},
     "output_type": "display_data"
    }
   ],
   "source": [
    "# 5 with speech_concise\n",
    "# Check topic distribution over time\n",
    "dist_df = speech_df_x.topic.value_counts()\n",
    "dist_df.plot.pie(y='topic');"
   ]
  },
  {
   "cell_type": "code",
   "execution_count": 87,
   "metadata": {},
   "outputs": [],
   "source": [
    "topic_year = []\n",
    "for i in range(num_topic):\n",
    "    topic_year.append(speech_df_x[speech_df_x.topic == i+1].sort_values('year').year.value_counts().sort_index())"
   ]
  },
  {
   "cell_type": "code",
   "execution_count": 123,
   "metadata": {},
   "outputs": [],
   "source": [
    "topic_yeat_df = pd.DataFrame(topic_year,index=[i+1 for i in range(num_topic)]).fillna(0)\n",
    "topic_yeat_df_T = topic_yeat_df.loc[:,2000:].transpose()\n",
    "topic_yeat_df_T['9']=[0]*topic_yeat_df_T.shape[0]       # just for adjusting the colormap later\n",
    "# topic_yeat_df_T"
   ]
  },
  {
   "cell_type": "code",
   "execution_count": 136,
   "metadata": {},
   "outputs": [
    {
     "data": {
      "image/png": "[encoded data removed]",
      "text/plain": [
       "<Figure size 1440x576 with 1 Axes>"
      ]
     },
     "metadata": {},
     "output_type": "display_data"
    }
   ],
   "source": [
    "# Full stack area plot\n",
    "\n",
    "plt.rcParams['figure.figsize']=[20,8]\n",
    "cmap = plt.get_cmap('twilight_shifted')\n",
    "\n",
    "df = topic_yeat_df_T.divide(topic_yeat_df_T.sum(axis=1), axis=0)\n",
    "ax = df.plot(kind='area', stacked=True, alpha = 0.6, cmap = cmap,\n",
    "             linewidth=0.5,\n",
    "             title='100 % stacked area chart')\n",
    "\n",
    "\n",
    "ax.set_ylabel('Percent (%)')\n",
    "ax.margins(0, 0) # Set margins to avoid \"whitespace\"\n",
    "plt.legend(bbox_to_anchor=(1., 1))\n",
    "plt.ylim(0,1)\n",
    "ax.grid(False)\n",
    "\n",
    "\n",
    "ax.axes.yaxis.set_ticks([])\n",
    "ax.set_title('Trend of topic over the years',fontsize=28)\n",
    "ax.set_ylabel('',fontsize=18)\n",
    "ax.set_xlabel('Year',fontsize=24)\n",
    "plt.xticks(fontsize=20)\n",
    "plt.yticks(fontsize=14)\n",
    "\n",
    "plt.show()\n",
    "\n",
    "# 1. family, friends, advice\n",
    "# 2. women's voice\n",
    "# 3. nation, generation\n",
    "# 4. dream, education\n",
    "# 5. technology & challenge\n",
    "# 6. sports\n",
    "# 7. science & knowledge"
   ]
  },
  {
   "cell_type": "code",
   "execution_count": 135,
   "metadata": {},
   "outputs": [
    {
     "data": {
      "image/png": "[encoded data removed]",
      "text/plain": [
       "<Figure size 1440x576 with 1 Axes>"
      ]
     },
     "metadata": {},
     "output_type": "display_data"
    }
   ],
   "source": [
    "# Full stack area plot (just for trying out different colors)\n",
    "\n",
    "plt.rcParams['figure.figsize']=[20,8]\n",
    "cmap = plt.get_cmap('Set3')\n",
    "\n",
    "df = topic_yeat_df_T.divide(topic_yeat_df_T.sum(axis=1), axis=0)\n",
    "ax = df.plot(kind='area', stacked=True, alpha = 0.8, cmap = cmap,\n",
    "             linewidth=0.5,\n",
    "             title='100 % stacked area chart')\n",
    "\n",
    "\n",
    "ax.set_ylabel('Percent (%)')\n",
    "ax.margins(0, 0) # Set margins to avoid \"whitespace\"\n",
    "plt.legend(bbox_to_anchor=(1, 1))\n",
    "plt.ylim(0,1)\n",
    "ax.grid(False)\n",
    "\n",
    "\n",
    "ax.axes.yaxis.set_ticks([])\n",
    "ax.set_title('Trend of topic over the years',fontsize=28)\n",
    "ax.set_ylabel('',fontsize=18)\n",
    "ax.set_xlabel('Year',fontsize=24)\n",
    "plt.xticks(fontsize=20)\n",
    "plt.yticks(fontsize=14)\n",
    "\n",
    "plt.show()\n",
    "\n",
    "# 1. family, friends, advice\n",
    "# 2. women's voice\n",
    "# 3. nation, generation\n",
    "# 4. dream, education\n",
    "# 5. technology & challenge\n",
    "# 6. sports\n",
    "# 7. science & knowledge"
   ]
  },
  {
   "cell_type": "code",
   "execution_count": null,
   "metadata": {},
   "outputs": [],
   "source": []
  },
  {
   "cell_type": "markdown",
   "metadata": {},
   "source": [
    "## 3. Topic modeling for each time frame"
   ]
  },
  {
   "cell_type": "code",
   "execution_count": 111,
   "metadata": {},
   "outputs": [],
   "source": [
    "num_topic = 4"
   ]
  },
  {
   "cell_type": "markdown",
   "metadata": {},
   "source": [
    "### A. Pre 2003"
   ]
  },
  {
   "cell_type": "code",
   "execution_count": 112,
   "metadata": {},
   "outputs": [],
   "source": [
    "first = speech_df_raw[speech_df_raw.year<2003].copy()"
   ]
  },
  {
   "cell_type": "code",
   "execution_count": 113,
   "metadata": {},
   "outputs": [],
   "source": [
    "# Wash the transcripts!\n",
    "speech_df_x = wash(first,'transcript').copy()"
   ]
  },
  {
   "cell_type": "markdown",
   "metadata": {},
   "source": [
    "#### All text"
   ]
  },
  {
   "cell_type": "code",
   "execution_count": 114,
   "metadata": {},
   "outputs": [],
   "source": [
    "# topic_modeling(speech_df_x,'transcript',6)"
   ]
  },
  {
   "cell_type": "markdown",
   "metadata": {},
   "source": [
    "#### Nouns only"
   ]
  },
  {
   "cell_type": "code",
   "execution_count": 115,
   "metadata": {},
   "outputs": [],
   "source": [
    "topic_df = topic_modeling(speech_df_x,'nouns',num_topic)\n",
    "topic_df"
   ]
  },
  {
   "cell_type": "code",
   "execution_count": 116,
   "metadata": {},
   "outputs": [],
   "source": [
    "# Pickle\n",
    "topic_df.to_pickle('../dump/to_nx_topic_df_1')"
   ]
  },
  {
   "cell_type": "code",
   "execution_count": null,
   "metadata": {},
   "outputs": [],
   "source": []
  },
  {
   "cell_type": "markdown",
   "metadata": {},
   "source": [
    "### B. 2003-2009"
   ]
  },
  {
   "cell_type": "code",
   "execution_count": 117,
   "metadata": {},
   "outputs": [],
   "source": [
    "second = speech_df_raw[(speech_df_raw.year>= 2003)&(speech_df_raw.year<2009)].copy()"
   ]
  },
  {
   "cell_type": "code",
   "execution_count": 118,
   "metadata": {},
   "outputs": [],
   "source": [
    "# Wash the transcripts!\n",
    "speech_df_x = wash(second,'transcript').copy()"
   ]
  },
  {
   "cell_type": "markdown",
   "metadata": {},
   "source": [
    "#### All text"
   ]
  },
  {
   "cell_type": "code",
   "execution_count": 119,
   "metadata": {},
   "outputs": [],
   "source": [
    "# topic_modeling(speech_df_x,'transcript',6)"
   ]
  },
  {
   "cell_type": "markdown",
   "metadata": {},
   "source": [
    "#### Nouns only"
   ]
  },
  {
   "cell_type": "code",
   "execution_count": 120,
   "metadata": {},
   "outputs": [
    {
     "data": {
      "text/html": [
       "<div>\n",
       "<style scoped>\n",
       "    .dataframe tbody tr th:only-of-type {\n",
       "        vertical-align: middle;\n",
       "    }\n",
       "\n",
       "    .dataframe tbody tr th {\n",
       "        vertical-align: top;\n",
       "    }\n",
       "\n",
       "    .dataframe thead th {\n",
       "        text-align: right;\n",
       "    }\n",
       "</style>\n",
       "<table border=\"1\" class=\"dataframe\">\n",
       "  <thead>\n",
       "    <tr style=\"text-align: right;\">\n",
       "      <th></th>\n",
       "      <th>0</th>\n",
       "      <th>1</th>\n",
       "      <th>2</th>\n",
       "      <th>3</th>\n",
       "      <th>4</th>\n",
       "      <th>5</th>\n",
       "      <th>6</th>\n",
       "      <th>7</th>\n",
       "      <th>8</th>\n",
       "      <th>9</th>\n",
       "    </tr>\n",
       "  </thead>\n",
       "  <tbody>\n",
       "    <tr>\n",
       "      <th>Topic #01</th>\n",
       "      <td>education</td>\n",
       "      <td>degree</td>\n",
       "      <td>community</td>\n",
       "      <td>dream</td>\n",
       "      <td>family</td>\n",
       "      <td>mother</td>\n",
       "      <td>opportunity</td>\n",
       "      <td>sister</td>\n",
       "      <td>thank</td>\n",
       "      <td>doctor</td>\n",
       "    </tr>\n",
       "    <tr>\n",
       "      <th>Topic #02</th>\n",
       "      <td>game</td>\n",
       "      <td>doors</td>\n",
       "      <td>kid</td>\n",
       "      <td>ball</td>\n",
       "      <td>door</td>\n",
       "      <td>husband</td>\n",
       "      <td>neighborhood</td>\n",
       "      <td>coach</td>\n",
       "      <td>country</td>\n",
       "      <td>dream</td>\n",
       "    </tr>\n",
       "    <tr>\n",
       "      <th>Topic #03</th>\n",
       "      <td>fear</td>\n",
       "      <td>idea</td>\n",
       "      <td>parent</td>\n",
       "      <td>age</td>\n",
       "      <td>failure</td>\n",
       "      <td>mind</td>\n",
       "      <td>sense</td>\n",
       "      <td>word</td>\n",
       "      <td>experience</td>\n",
       "      <td>generation</td>\n",
       "    </tr>\n",
       "    <tr>\n",
       "      <th>Topic #04</th>\n",
       "      <td>company</td>\n",
       "      <td>selfconfidence</td>\n",
       "      <td>business</td>\n",
       "      <td>percent</td>\n",
       "      <td>confidence</td>\n",
       "      <td>rule</td>\n",
       "      <td>purpose</td>\n",
       "      <td>career</td>\n",
       "      <td>challenge</td>\n",
       "      <td>engineer</td>\n",
       "    </tr>\n",
       "  </tbody>\n",
       "</table>\n",
       "</div>"
      ],
      "text/plain": [
       "                   0               1          2        3           4        5  \\\n",
       "Topic #01  education          degree  community    dream      family   mother   \n",
       "Topic #02       game           doors        kid     ball        door  husband   \n",
       "Topic #03       fear            idea     parent      age     failure     mind   \n",
       "Topic #04    company  selfconfidence   business  percent  confidence     rule   \n",
       "\n",
       "                      6       7           8           9  \n",
       "Topic #01   opportunity  sister       thank      doctor  \n",
       "Topic #02  neighborhood   coach     country       dream  \n",
       "Topic #03         sense    word  experience  generation  \n",
       "Topic #04       purpose  career   challenge    engineer  "
      ]
     },
     "execution_count": 120,
     "metadata": {},
     "output_type": "execute_result"
    }
   ],
   "source": [
    "topic_df = topic_modeling(speech_df_x,'nouns',num_topic)\n",
    "topic_df"
   ]
  },
  {
   "cell_type": "code",
   "execution_count": 121,
   "metadata": {},
   "outputs": [],
   "source": [
    "# Pickle\n",
    "topic_df.to_pickle('../dump/to_nx_topic_df_2')"
   ]
  },
  {
   "cell_type": "code",
   "execution_count": null,
   "metadata": {},
   "outputs": [],
   "source": []
  },
  {
   "cell_type": "markdown",
   "metadata": {},
   "source": [
    "### C. 2009-2012"
   ]
  },
  {
   "cell_type": "code",
   "execution_count": 122,
   "metadata": {},
   "outputs": [],
   "source": [
    "third = speech_df_raw[(speech_df_raw.year>= 2009)&(speech_df_raw.year<2012)].copy()"
   ]
  },
  {
   "cell_type": "code",
   "execution_count": 123,
   "metadata": {},
   "outputs": [],
   "source": [
    "# Wash the transcripts!\n",
    "speech_df_x = wash(third,'transcript').copy()"
   ]
  },
  {
   "cell_type": "markdown",
   "metadata": {},
   "source": [
    "#### All text"
   ]
  },
  {
   "cell_type": "code",
   "execution_count": 124,
   "metadata": {},
   "outputs": [],
   "source": [
    "# topic_modeling(speech_df_x,'transcript',6)"
   ]
  },
  {
   "cell_type": "markdown",
   "metadata": {},
   "source": [
    "#### Nouns only"
   ]
  },
  {
   "cell_type": "code",
   "execution_count": 125,
   "metadata": {},
   "outputs": [
    {
     "data": {
      "text/html": [
       "<div>\n",
       "<style scoped>\n",
       "    .dataframe tbody tr th:only-of-type {\n",
       "        vertical-align: middle;\n",
       "    }\n",
       "\n",
       "    .dataframe tbody tr th {\n",
       "        vertical-align: top;\n",
       "    }\n",
       "\n",
       "    .dataframe thead th {\n",
       "        text-align: right;\n",
       "    }\n",
       "</style>\n",
       "<table border=\"1\" class=\"dataframe\">\n",
       "  <thead>\n",
       "    <tr style=\"text-align: right;\">\n",
       "      <th></th>\n",
       "      <th>0</th>\n",
       "      <th>1</th>\n",
       "      <th>2</th>\n",
       "      <th>3</th>\n",
       "      <th>4</th>\n",
       "      <th>5</th>\n",
       "      <th>6</th>\n",
       "      <th>7</th>\n",
       "      <th>8</th>\n",
       "      <th>9</th>\n",
       "    </tr>\n",
       "  </thead>\n",
       "  <tbody>\n",
       "    <tr>\n",
       "      <th>Topic #01</th>\n",
       "      <td>education</td>\n",
       "      <td>money</td>\n",
       "      <td>parent</td>\n",
       "      <td>dream</td>\n",
       "      <td>heart</td>\n",
       "      <td>business</td>\n",
       "      <td>future</td>\n",
       "      <td>value</td>\n",
       "      <td>place</td>\n",
       "      <td>company</td>\n",
       "    </tr>\n",
       "    <tr>\n",
       "      <th>Topic #02</th>\n",
       "      <td>women</td>\n",
       "      <td>genius</td>\n",
       "      <td>conversation</td>\n",
       "      <td>success</td>\n",
       "      <td>workforce</td>\n",
       "      <td>balance</td>\n",
       "      <td>voice</td>\n",
       "      <td>belong</td>\n",
       "      <td>worlds</td>\n",
       "      <td>girl</td>\n",
       "    </tr>\n",
       "    <tr>\n",
       "      <th>Topic #03</th>\n",
       "      <td>bird</td>\n",
       "      <td>dream</td>\n",
       "      <td>obstacles</td>\n",
       "      <td>drift</td>\n",
       "      <td>polluters</td>\n",
       "      <td>thuddy</td>\n",
       "      <td>compliance</td>\n",
       "      <td>grammar</td>\n",
       "      <td>instructors</td>\n",
       "      <td>bust</td>\n",
       "    </tr>\n",
       "    <tr>\n",
       "      <th>Topic #04</th>\n",
       "      <td>policy</td>\n",
       "      <td>grid</td>\n",
       "      <td>dream</td>\n",
       "      <td>commencement</td>\n",
       "      <td>mule</td>\n",
       "      <td>blue</td>\n",
       "      <td>diploma</td>\n",
       "      <td>man</td>\n",
       "      <td>address</td>\n",
       "      <td>months</td>\n",
       "    </tr>\n",
       "  </tbody>\n",
       "</table>\n",
       "</div>"
      ],
      "text/plain": [
       "                   0       1             2             3          4         5  \\\n",
       "Topic #01  education   money        parent         dream      heart  business   \n",
       "Topic #02      women  genius  conversation       success  workforce   balance   \n",
       "Topic #03       bird   dream     obstacles         drift  polluters    thuddy   \n",
       "Topic #04     policy    grid         dream  commencement       mule      blue   \n",
       "\n",
       "                    6        7            8        9  \n",
       "Topic #01      future    value        place  company  \n",
       "Topic #02       voice   belong       worlds     girl  \n",
       "Topic #03  compliance  grammar  instructors     bust  \n",
       "Topic #04     diploma      man      address   months  "
      ]
     },
     "execution_count": 125,
     "metadata": {},
     "output_type": "execute_result"
    }
   ],
   "source": [
    "topic_df = topic_modeling(speech_df_x,'nouns',num_topic)\n",
    "topic_df"
   ]
  },
  {
   "cell_type": "code",
   "execution_count": 126,
   "metadata": {},
   "outputs": [],
   "source": [
    "# Pickle\n",
    "topic_df.to_pickle('../dump/to_nx_topic_df_3')"
   ]
  },
  {
   "cell_type": "code",
   "execution_count": null,
   "metadata": {},
   "outputs": [],
   "source": []
  },
  {
   "cell_type": "markdown",
   "metadata": {},
   "source": [
    "### D. 2012-2015"
   ]
  },
  {
   "cell_type": "code",
   "execution_count": 127,
   "metadata": {},
   "outputs": [],
   "source": [
    "fourth = speech_df_raw[(speech_df_raw.year>= 2012)&(speech_df_raw.year<2015)].copy()"
   ]
  },
  {
   "cell_type": "code",
   "execution_count": 128,
   "metadata": {},
   "outputs": [],
   "source": [
    "# Wash the transcripts!\n",
    "speech_df_x = wash(fourth,'transcript').copy()"
   ]
  },
  {
   "cell_type": "markdown",
   "metadata": {},
   "source": [
    "#### All text"
   ]
  },
  {
   "cell_type": "code",
   "execution_count": 129,
   "metadata": {},
   "outputs": [],
   "source": [
    "# topic_modeling(speech_df_x,'transcript',6)"
   ]
  },
  {
   "cell_type": "markdown",
   "metadata": {},
   "source": [
    "#### Nouns only"
   ]
  },
  {
   "cell_type": "code",
   "execution_count": 130,
   "metadata": {},
   "outputs": [
    {
     "data": {
      "text/html": [
       "<div>\n",
       "<style scoped>\n",
       "    .dataframe tbody tr th:only-of-type {\n",
       "        vertical-align: middle;\n",
       "    }\n",
       "\n",
       "    .dataframe tbody tr th {\n",
       "        vertical-align: top;\n",
       "    }\n",
       "\n",
       "    .dataframe thead th {\n",
       "        text-align: right;\n",
       "    }\n",
       "</style>\n",
       "<table border=\"1\" class=\"dataframe\">\n",
       "  <thead>\n",
       "    <tr style=\"text-align: right;\">\n",
       "      <th></th>\n",
       "      <th>0</th>\n",
       "      <th>1</th>\n",
       "      <th>2</th>\n",
       "      <th>3</th>\n",
       "      <th>4</th>\n",
       "      <th>5</th>\n",
       "      <th>6</th>\n",
       "      <th>7</th>\n",
       "      <th>8</th>\n",
       "      <th>9</th>\n",
       "    </tr>\n",
       "  </thead>\n",
       "  <tbody>\n",
       "    <tr>\n",
       "      <th>Topic #01</th>\n",
       "      <td>dream</td>\n",
       "      <td>parent</td>\n",
       "      <td>fear</td>\n",
       "      <td>moment</td>\n",
       "      <td>story</td>\n",
       "      <td>year</td>\n",
       "      <td>friends</td>\n",
       "      <td>kid</td>\n",
       "      <td>family</td>\n",
       "      <td>room</td>\n",
       "    </tr>\n",
       "    <tr>\n",
       "      <th>Topic #02</th>\n",
       "      <td>advice</td>\n",
       "      <td>hater</td>\n",
       "      <td>voice</td>\n",
       "      <td>ignorance</td>\n",
       "      <td>women</td>\n",
       "      <td>silence</td>\n",
       "      <td>hiphop</td>\n",
       "      <td>book</td>\n",
       "      <td>marriage</td>\n",
       "      <td>pigeon</td>\n",
       "    </tr>\n",
       "    <tr>\n",
       "      <th>Topic #03</th>\n",
       "      <td>generation</td>\n",
       "      <td>women</td>\n",
       "      <td>success</td>\n",
       "      <td>country</td>\n",
       "      <td>place</td>\n",
       "      <td>challenge</td>\n",
       "      <td>education</td>\n",
       "      <td>history</td>\n",
       "      <td>family</td>\n",
       "      <td>children</td>\n",
       "    </tr>\n",
       "    <tr>\n",
       "      <th>Topic #04</th>\n",
       "      <td>substitute</td>\n",
       "      <td>phone</td>\n",
       "      <td>communication</td>\n",
       "      <td>someones</td>\n",
       "      <td>distract</td>\n",
       "      <td>dimension</td>\n",
       "      <td>entangle</td>\n",
       "      <td>responses</td>\n",
       "      <td>compassion</td>\n",
       "      <td>conversation</td>\n",
       "    </tr>\n",
       "  </tbody>\n",
       "</table>\n",
       "</div>"
      ],
      "text/plain": [
       "                    0       1              2          3         4          5  \\\n",
       "Topic #01       dream  parent           fear     moment     story       year   \n",
       "Topic #02      advice   hater          voice  ignorance     women    silence   \n",
       "Topic #03  generation   women        success    country     place  challenge   \n",
       "Topic #04  substitute   phone  communication   someones  distract  dimension   \n",
       "\n",
       "                   6          7           8             9  \n",
       "Topic #01    friends        kid      family          room  \n",
       "Topic #02     hiphop       book    marriage        pigeon  \n",
       "Topic #03  education    history      family      children  \n",
       "Topic #04   entangle  responses  compassion  conversation  "
      ]
     },
     "execution_count": 130,
     "metadata": {},
     "output_type": "execute_result"
    }
   ],
   "source": [
    "topic_df = topic_modeling(speech_df_x,'nouns',num_topic)\n",
    "topic_df"
   ]
  },
  {
   "cell_type": "code",
   "execution_count": 131,
   "metadata": {},
   "outputs": [],
   "source": [
    "# Pickle\n",
    "topic_df.to_pickle('../dump/to_nx_topic_df_4')"
   ]
  },
  {
   "cell_type": "code",
   "execution_count": null,
   "metadata": {},
   "outputs": [],
   "source": []
  },
  {
   "cell_type": "markdown",
   "metadata": {},
   "source": [
    "### E. 2015-"
   ]
  },
  {
   "cell_type": "code",
   "execution_count": 132,
   "metadata": {},
   "outputs": [],
   "source": [
    "fifth = speech_df_raw[(speech_df_raw.year>= 2015)].copy()"
   ]
  },
  {
   "cell_type": "code",
   "execution_count": 133,
   "metadata": {},
   "outputs": [],
   "source": [
    "# Wash the transcripts!\n",
    "speech_df_x = wash(fifth,'transcript').copy()"
   ]
  },
  {
   "cell_type": "markdown",
   "metadata": {},
   "source": [
    "#### All text"
   ]
  },
  {
   "cell_type": "code",
   "execution_count": 134,
   "metadata": {},
   "outputs": [],
   "source": [
    "# topic_modeling(speech_df_x,'transcript',6)"
   ]
  },
  {
   "cell_type": "markdown",
   "metadata": {},
   "source": [
    "#### Nouns only"
   ]
  },
  {
   "cell_type": "code",
   "execution_count": 135,
   "metadata": {},
   "outputs": [
    {
     "data": {
      "text/html": [
       "<div>\n",
       "<style scoped>\n",
       "    .dataframe tbody tr th:only-of-type {\n",
       "        vertical-align: middle;\n",
       "    }\n",
       "\n",
       "    .dataframe tbody tr th {\n",
       "        vertical-align: top;\n",
       "    }\n",
       "\n",
       "    .dataframe thead th {\n",
       "        text-align: right;\n",
       "    }\n",
       "</style>\n",
       "<table border=\"1\" class=\"dataframe\">\n",
       "  <thead>\n",
       "    <tr style=\"text-align: right;\">\n",
       "      <th></th>\n",
       "      <th>0</th>\n",
       "      <th>1</th>\n",
       "      <th>2</th>\n",
       "      <th>3</th>\n",
       "      <th>4</th>\n",
       "      <th>5</th>\n",
       "      <th>6</th>\n",
       "      <th>7</th>\n",
       "      <th>8</th>\n",
       "      <th>9</th>\n",
       "    </tr>\n",
       "  </thead>\n",
       "  <tbody>\n",
       "    <tr>\n",
       "      <th>Topic #01</th>\n",
       "      <td>advice</td>\n",
       "      <td>film</td>\n",
       "      <td>speech</td>\n",
       "      <td>voice</td>\n",
       "      <td>movie</td>\n",
       "      <td>play</td>\n",
       "      <td>career</td>\n",
       "      <td>money</td>\n",
       "      <td>letter</td>\n",
       "      <td>year</td>\n",
       "    </tr>\n",
       "    <tr>\n",
       "      <th>Topic #02</th>\n",
       "      <td>purpose</td>\n",
       "      <td>sense</td>\n",
       "      <td>generation</td>\n",
       "      <td>communities</td>\n",
       "      <td>freedom</td>\n",
       "      <td>company</td>\n",
       "      <td>project</td>\n",
       "      <td>society</td>\n",
       "      <td>community</td>\n",
       "      <td>millions</td>\n",
       "    </tr>\n",
       "    <tr>\n",
       "      <th>Topic #03</th>\n",
       "      <td>mother</td>\n",
       "      <td>shape</td>\n",
       "      <td>gender</td>\n",
       "      <td>women</td>\n",
       "      <td>prize</td>\n",
       "      <td>sign</td>\n",
       "      <td>feminism</td>\n",
       "      <td>makeup</td>\n",
       "      <td>privilege</td>\n",
       "      <td>earth</td>\n",
       "    </tr>\n",
       "    <tr>\n",
       "      <th>Topic #04</th>\n",
       "      <td>question</td>\n",
       "      <td>resilience</td>\n",
       "      <td>company</td>\n",
       "      <td>days</td>\n",
       "      <td>children</td>\n",
       "      <td>joy</td>\n",
       "      <td>step</td>\n",
       "      <td>family</td>\n",
       "      <td>cancer</td>\n",
       "      <td>success</td>\n",
       "    </tr>\n",
       "  </tbody>\n",
       "</table>\n",
       "</div>"
      ],
      "text/plain": [
       "                  0           1           2            3         4        5  \\\n",
       "Topic #01    advice        film      speech        voice     movie     play   \n",
       "Topic #02   purpose       sense  generation  communities   freedom  company   \n",
       "Topic #03    mother       shape      gender        women     prize     sign   \n",
       "Topic #04  question  resilience     company         days  children      joy   \n",
       "\n",
       "                  6        7          8         9  \n",
       "Topic #01    career    money     letter      year  \n",
       "Topic #02   project  society  community  millions  \n",
       "Topic #03  feminism   makeup  privilege     earth  \n",
       "Topic #04      step   family     cancer   success  "
      ]
     },
     "execution_count": 135,
     "metadata": {},
     "output_type": "execute_result"
    }
   ],
   "source": [
    "topic_df = topic_modeling(speech_df_x,'nouns',num_topic)\n",
    "topic_df"
   ]
  },
  {
   "cell_type": "code",
   "execution_count": 136,
   "metadata": {},
   "outputs": [],
   "source": [
    "# Pickle\n",
    "topic_df.to_pickle('../dump/to_nx_topic_df_5')"
   ]
  },
  {
   "cell_type": "code",
   "execution_count": null,
   "metadata": {},
   "outputs": [],
   "source": []
  }
 ],
 "metadata": {
  "kernelspec": {
   "display_name": "Python 3",
   "language": "python",
   "name": "python3"
  },
  "language_info": {
   "codemirror_mode": {
    "name": "ipython",
    "version": 3
   },
   "file_extension": ".py",
   "mimetype": "text/x-python",
   "name": "python",
   "nbconvert_exporter": "python",
   "pygments_lexer": "ipython3",
   "version": "3.8.5"
  }
 },
 "nbformat": 4,
 "nbformat_minor": 4
}

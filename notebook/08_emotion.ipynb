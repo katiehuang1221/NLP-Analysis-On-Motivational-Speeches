{
 "cells": [
  {
   "cell_type": "code",
   "execution_count": null,
   "metadata": {},
   "outputs": [],
   "source": [
    "\"\"\"\n",
    "NRC Emotional Lexicon\n",
    "Found overall highest scores are:\n",
    "    - positive\n",
    "    - trust\n",
    "    - anticipation\n",
    "    - joy\n",
    "    - negative\n",
    "    \n",
    "Conclusion: doesn't seem too interesting\n",
    "\n",
    "\"\"\""
   ]
  },
  {
   "cell_type": "code",
   "execution_count": 11,
   "metadata": {},
   "outputs": [],
   "source": [
    "import pandas as pd\n",
    "import numpy as np\n",
    "import math\n",
    "import matplotlib.pyplot as plt\n",
    "import seaborn as sns\n",
    "sns.set()\n",
    "\n",
    "# !pip install NRCLex\n",
    "from nrclex import NRCLex\n",
    "\n",
    "%load_ext autoreload\n",
    "%autoreload 2\n",
    "import sys\n",
    "sys.path.append('/Users/katiehuang/Desktop/metis/projects/onl_ds5_project_4/py')\n",
    "from word_cloud import *\n",
    "import importlib"
   ]
  },
  {
   "cell_type": "markdown",
   "metadata": {},
   "source": [
    "## 1. Load data"
   ]
  },
  {
   "cell_type": "code",
   "execution_count": 10,
   "metadata": {},
   "outputs": [],
   "source": [
    "# Let's read in our document-term matrix\n",
    "speech_df = pd.read_pickle('../dump/speech_clean_lemma')\n",
    "speech_df_raw = pd.read_pickle('../dump/speech_df')\n",
    "data = pd.read_pickle('../dump/data_dtm_lemma.pkl')\n",
    "tdm = data.transpose()"
   ]
  },
  {
   "cell_type": "code",
   "execution_count": null,
   "metadata": {},
   "outputs": [],
   "source": []
  },
  {
   "cell_type": "markdown",
   "metadata": {},
   "source": [
    "## 2. Examin NRC dictionary\n",
    "\n",
    "Emotional affects:\n",
    "* positive\n",
    "* joy\n",
    "* anticipation\n",
    "* trust\n",
    "* surprise\n",
    "\n",
    "\n",
    "* negative\n",
    "* fearr\n",
    "* anger\n",
    "* sadness\n",
    "* disgust"
   ]
  },
  {
   "cell_type": "code",
   "execution_count": 2,
   "metadata": {},
   "outputs": [
    {
     "data": {
      "text/html": [
       "<div>\n",
       "<style scoped>\n",
       "    .dataframe tbody tr th:only-of-type {\n",
       "        vertical-align: middle;\n",
       "    }\n",
       "\n",
       "    .dataframe tbody tr th {\n",
       "        vertical-align: top;\n",
       "    }\n",
       "\n",
       "    .dataframe thead th {\n",
       "        text-align: right;\n",
       "    }\n",
       "</style>\n",
       "<table border=\"1\" class=\"dataframe\">\n",
       "  <thead>\n",
       "    <tr style=\"text-align: right;\">\n",
       "      <th></th>\n",
       "      <th>word</th>\n",
       "      <th>emotion</th>\n",
       "      <th>association</th>\n",
       "    </tr>\n",
       "  </thead>\n",
       "  <tbody>\n",
       "    <tr>\n",
       "      <th>0</th>\n",
       "      <td>abandonment</td>\n",
       "      <td>joy</td>\n",
       "      <td>0</td>\n",
       "    </tr>\n",
       "    <tr>\n",
       "      <th>1</th>\n",
       "      <td>abandonment</td>\n",
       "      <td>negative</td>\n",
       "      <td>1</td>\n",
       "    </tr>\n",
       "    <tr>\n",
       "      <th>2</th>\n",
       "      <td>abandonment</td>\n",
       "      <td>positive</td>\n",
       "      <td>0</td>\n",
       "    </tr>\n",
       "    <tr>\n",
       "      <th>3</th>\n",
       "      <td>abandonment</td>\n",
       "      <td>sadness</td>\n",
       "      <td>1</td>\n",
       "    </tr>\n",
       "    <tr>\n",
       "      <th>4</th>\n",
       "      <td>abandonment</td>\n",
       "      <td>surprise</td>\n",
       "      <td>1</td>\n",
       "    </tr>\n",
       "    <tr>\n",
       "      <th>5</th>\n",
       "      <td>abandonment</td>\n",
       "      <td>trust</td>\n",
       "      <td>0</td>\n",
       "    </tr>\n",
       "    <tr>\n",
       "      <th>6</th>\n",
       "      <td>abate</td>\n",
       "      <td>anger</td>\n",
       "      <td>0</td>\n",
       "    </tr>\n",
       "    <tr>\n",
       "      <th>7</th>\n",
       "      <td>abate</td>\n",
       "      <td>anticipation</td>\n",
       "      <td>0</td>\n",
       "    </tr>\n",
       "    <tr>\n",
       "      <th>8</th>\n",
       "      <td>abate</td>\n",
       "      <td>disgust</td>\n",
       "      <td>0</td>\n",
       "    </tr>\n",
       "    <tr>\n",
       "      <th>9</th>\n",
       "      <td>abate</td>\n",
       "      <td>fear</td>\n",
       "      <td>0</td>\n",
       "    </tr>\n",
       "    <tr>\n",
       "      <th>10</th>\n",
       "      <td>abate</td>\n",
       "      <td>joy</td>\n",
       "      <td>0</td>\n",
       "    </tr>\n",
       "    <tr>\n",
       "      <th>11</th>\n",
       "      <td>abate</td>\n",
       "      <td>negative</td>\n",
       "      <td>0</td>\n",
       "    </tr>\n",
       "  </tbody>\n",
       "</table>\n",
       "</div>"
      ],
      "text/plain": [
       "           word       emotion  association\n",
       "0   abandonment           joy            0\n",
       "1   abandonment      negative            1\n",
       "2   abandonment      positive            0\n",
       "3   abandonment       sadness            1\n",
       "4   abandonment      surprise            1\n",
       "5   abandonment         trust            0\n",
       "6         abate         anger            0\n",
       "7         abate  anticipation            0\n",
       "8         abate       disgust            0\n",
       "9         abate          fear            0\n",
       "10        abate           joy            0\n",
       "11        abate      negative            0"
      ]
     },
     "execution_count": 2,
     "metadata": {},
     "output_type": "execute_result"
    }
   ],
   "source": [
    "filepath = '../resource/NRC-Sentiment-Emotion-Lexicons/NRC-Emotion-Lexicon-v0.92/NRC-Emotion-Lexicon-Wordlevel-v0.92.txt'\n",
    "emolex_df = pd.read_csv(filepath, names=[\"word\", \"emotion\", \"association\"], skiprows=45, sep='\\t', keep_default_na=False)\n",
    "emolex_df.head(12)"
   ]
  },
  {
   "cell_type": "code",
   "execution_count": 3,
   "metadata": {},
   "outputs": [
    {
     "data": {
      "text/html": [
       "<div>\n",
       "<style scoped>\n",
       "    .dataframe tbody tr th:only-of-type {\n",
       "        vertical-align: middle;\n",
       "    }\n",
       "\n",
       "    .dataframe tbody tr th {\n",
       "        vertical-align: top;\n",
       "    }\n",
       "\n",
       "    .dataframe thead th {\n",
       "        text-align: right;\n",
       "    }\n",
       "</style>\n",
       "<table border=\"1\" class=\"dataframe\">\n",
       "  <thead>\n",
       "    <tr style=\"text-align: right;\">\n",
       "      <th>emotion</th>\n",
       "      <th>word</th>\n",
       "      <th>anger</th>\n",
       "      <th>anticipation</th>\n",
       "      <th>disgust</th>\n",
       "      <th>fear</th>\n",
       "      <th>joy</th>\n",
       "      <th>negative</th>\n",
       "      <th>positive</th>\n",
       "      <th>sadness</th>\n",
       "      <th>surprise</th>\n",
       "      <th>trust</th>\n",
       "    </tr>\n",
       "  </thead>\n",
       "  <tbody>\n",
       "    <tr>\n",
       "      <th>0</th>\n",
       "      <td>abandonment</td>\n",
       "      <td>NaN</td>\n",
       "      <td>NaN</td>\n",
       "      <td>NaN</td>\n",
       "      <td>NaN</td>\n",
       "      <td>0.0</td>\n",
       "      <td>1.0</td>\n",
       "      <td>0.0</td>\n",
       "      <td>1.0</td>\n",
       "      <td>1.0</td>\n",
       "      <td>0.0</td>\n",
       "    </tr>\n",
       "    <tr>\n",
       "      <th>1</th>\n",
       "      <td>abate</td>\n",
       "      <td>0.0</td>\n",
       "      <td>0.0</td>\n",
       "      <td>0.0</td>\n",
       "      <td>0.0</td>\n",
       "      <td>0.0</td>\n",
       "      <td>0.0</td>\n",
       "      <td>0.0</td>\n",
       "      <td>0.0</td>\n",
       "      <td>0.0</td>\n",
       "      <td>0.0</td>\n",
       "    </tr>\n",
       "    <tr>\n",
       "      <th>2</th>\n",
       "      <td>abatement</td>\n",
       "      <td>0.0</td>\n",
       "      <td>0.0</td>\n",
       "      <td>0.0</td>\n",
       "      <td>0.0</td>\n",
       "      <td>0.0</td>\n",
       "      <td>0.0</td>\n",
       "      <td>0.0</td>\n",
       "      <td>0.0</td>\n",
       "      <td>0.0</td>\n",
       "      <td>0.0</td>\n",
       "    </tr>\n",
       "    <tr>\n",
       "      <th>3</th>\n",
       "      <td>abba</td>\n",
       "      <td>0.0</td>\n",
       "      <td>0.0</td>\n",
       "      <td>0.0</td>\n",
       "      <td>0.0</td>\n",
       "      <td>0.0</td>\n",
       "      <td>0.0</td>\n",
       "      <td>1.0</td>\n",
       "      <td>0.0</td>\n",
       "      <td>0.0</td>\n",
       "      <td>0.0</td>\n",
       "    </tr>\n",
       "    <tr>\n",
       "      <th>4</th>\n",
       "      <td>abbot</td>\n",
       "      <td>0.0</td>\n",
       "      <td>0.0</td>\n",
       "      <td>0.0</td>\n",
       "      <td>0.0</td>\n",
       "      <td>0.0</td>\n",
       "      <td>0.0</td>\n",
       "      <td>0.0</td>\n",
       "      <td>0.0</td>\n",
       "      <td>0.0</td>\n",
       "      <td>1.0</td>\n",
       "    </tr>\n",
       "  </tbody>\n",
       "</table>\n",
       "</div>"
      ],
      "text/plain": [
       "emotion         word  anger  anticipation  disgust  fear  joy  negative  \\\n",
       "0        abandonment    NaN           NaN      NaN   NaN  0.0       1.0   \n",
       "1              abate    0.0           0.0      0.0   0.0  0.0       0.0   \n",
       "2          abatement    0.0           0.0      0.0   0.0  0.0       0.0   \n",
       "3               abba    0.0           0.0      0.0   0.0  0.0       0.0   \n",
       "4              abbot    0.0           0.0      0.0   0.0  0.0       0.0   \n",
       "\n",
       "emotion  positive  sadness  surprise  trust  \n",
       "0             0.0      1.0       1.0    0.0  \n",
       "1             0.0      0.0       0.0    0.0  \n",
       "2             0.0      0.0       0.0    0.0  \n",
       "3             1.0      0.0       0.0    0.0  \n",
       "4             0.0      0.0       0.0    1.0  "
      ]
     },
     "execution_count": 3,
     "metadata": {},
     "output_type": "execute_result"
    }
   ],
   "source": [
    "# Reshape (pivot)\n",
    "emolex_words_pivot = emolex_df.pivot(index='word', columns='emotion', values='association').reset_index()\n",
    "emolex_words_pivot.head()"
   ]
  },
  {
   "cell_type": "markdown",
   "metadata": {},
   "source": [
    "### Test with the first speech"
   ]
  },
  {
   "cell_type": "code",
   "execution_count": 6,
   "metadata": {},
   "outputs": [],
   "source": [
    "#Instantiate text object (for best results, 'text' should be unicode).\n",
    "text_object = NRCLex('text')"
   ]
  },
  {
   "cell_type": "code",
   "execution_count": 7,
   "metadata": {},
   "outputs": [
    {
     "data": {
      "text/plain": [
       "['text']"
      ]
     },
     "execution_count": 7,
     "metadata": {},
     "output_type": "execute_result"
    }
   ],
   "source": [
    "#Return words list.\n",
    "\n",
    "text_object.words"
   ]
  },
  {
   "cell_type": "code",
   "execution_count": 8,
   "metadata": {},
   "outputs": [
    {
     "data": {
      "text/plain": [
       "[Sentence(\"text\")]"
      ]
     },
     "execution_count": 8,
     "metadata": {},
     "output_type": "execute_result"
    }
   ],
   "source": [
    "#Return sentences list.\n",
    "\n",
    "text_object.sentences"
   ]
  },
  {
   "cell_type": "code",
   "execution_count": 9,
   "metadata": {},
   "outputs": [
    {
     "data": {
      "text/plain": [
       "[]"
      ]
     },
     "execution_count": 9,
     "metadata": {},
     "output_type": "execute_result"
    }
   ],
   "source": [
    "text_object.affect_list"
   ]
  },
  {
   "cell_type": "code",
   "execution_count": 23,
   "metadata": {},
   "outputs": [
    {
     "data": {
      "text/plain": [
       "'  I wish someone had told me at my own commencement that the one and only requirement for graduation was ...that I had to emerge out of the closed, cordoned-off, space of my own head. This was the sole requirement that no one told me about. I had to learn to listen – to another mind; to nature; to history. “Generation L.” Before I begin, I want you to turn to your left, turn to your right. And congratulate the person next to you, even if you don’t know them. Congratulations to graduates of the class of 2018! Yes, yes, yes; I know what you are now thinking. “Last year, we had Will Ferrell.” He was funny, upbeat, quirky – a comic genius. How come we got stuck with the cancer guy?”. But hold that thought for a second, for here we are, on this absolutely glorious morning – and if there’s one thing that Mr. Ferrell and I do share, it’s this: We are both immensely, immensely honored to be asked to speak to you. And so let me congratulate you, and your families, on what is definitely one of the most memorable days of your life. In writing this talk, I decided to take a break and play chess with my younger daughter, Aria, who is all of eight years old, and perhaps a future Trojan. It may have been the first time that I had played with her. We made a few perfunctory moves. I traded a pawn for a pawn, and a knight for a knight, and I saw her easing into the rhythm of the game. She made a few clumsy moves and then corrected herself. Sh'"
      ]
     },
     "execution_count": 23,
     "metadata": {},
     "output_type": "execute_result"
    }
   ],
   "source": [
    "# Split the speech into 10 parts\n",
    "transcript = speech_df_raw.transcript.iloc[0]\n",
    "parts = split_text(transcript, n=10)\n",
    "parts[0]"
   ]
  },
  {
   "cell_type": "markdown",
   "metadata": {},
   "source": [
    "#### Sample usage (on the first part of the first speech)"
   ]
  },
  {
   "cell_type": "code",
   "execution_count": 25,
   "metadata": {},
   "outputs": [],
   "source": [
    "#Instantiate text object (for best results, 'text' should be unicode).\n",
    "\n",
    "text_object = NRCLex(parts[0])"
   ]
  },
  {
   "cell_type": "code",
   "execution_count": 26,
   "metadata": {},
   "outputs": [],
   "source": [
    "# text_object.affect_list"
   ]
  },
  {
   "cell_type": "code",
   "execution_count": 17,
   "metadata": {},
   "outputs": [
    {
     "data": {
      "text/plain": [
       "{'graduation': ['anticipation',\n",
       "  'fear',\n",
       "  'joy',\n",
       "  'positive',\n",
       "  'surprise',\n",
       "  'trust'],\n",
       " 'learn': ['positive'],\n",
       " 'don': ['positive', 'trust'],\n",
       " 'genius': ['positive'],\n",
       " 'cancer': ['anger', 'disgust', 'fear', 'negative', 'sadness'],\n",
       " 'thought': ['anticipation'],\n",
       " 'share': ['anticipation', 'joy', 'positive', 'trust'],\n",
       " 'memorable': ['joy', 'positive', 'surprise', 'trust'],\n",
       " 'talk': ['positive'],\n",
       " 'break': ['surprise'],\n",
       " 'younger': ['positive'],\n",
       " 'daughter': ['joy', 'positive'],\n",
       " 'time': ['anticipation'],\n",
       " 'pawn': ['negative', 'trust'],\n",
       " 'knight': ['positive'],\n",
       " 'rhythm': ['positive'],\n",
       " 'clumsy': ['disgust', 'negative']}"
      ]
     },
     "execution_count": 17,
     "metadata": {},
     "output_type": "execute_result"
    }
   ],
   "source": [
    "text_object.affect_dict"
   ]
  },
  {
   "cell_type": "code",
   "execution_count": 18,
   "metadata": {},
   "outputs": [
    {
     "data": {
      "text/plain": [
       "{'anticipation': 4,\n",
       " 'fear': 2,\n",
       " 'joy': 4,\n",
       " 'positive': 12,\n",
       " 'surprise': 3,\n",
       " 'trust': 6,\n",
       " 'anger': 1,\n",
       " 'disgust': 2,\n",
       " 'negative': 4,\n",
       " 'sadness': 1}"
      ]
     },
     "execution_count": 18,
     "metadata": {},
     "output_type": "execute_result"
    }
   ],
   "source": [
    "text_object.raw_emotion_scores"
   ]
  },
  {
   "cell_type": "code",
   "execution_count": 19,
   "metadata": {},
   "outputs": [
    {
     "data": {
      "text/plain": [
       "[('positive', 0.3076923076923077)]"
      ]
     },
     "execution_count": 19,
     "metadata": {},
     "output_type": "execute_result"
    }
   ],
   "source": [
    "text_object.top_emotions"
   ]
  },
  {
   "cell_type": "code",
   "execution_count": 30,
   "metadata": {},
   "outputs": [
    {
     "data": {
      "text/plain": [
       "[('positive', 0.3076923076923077),\n",
       " ('trust', 0.15384615384615385),\n",
       " ('negative', 0.10256410256410256)]"
      ]
     },
     "execution_count": 30,
     "metadata": {},
     "output_type": "execute_result"
    }
   ],
   "source": [
    "# text_object.affect_frequencies\n",
    "sorted(text_object.affect_frequencies.items(), key=lambda x:x[1], reverse=True)[:3]"
   ]
  },
  {
   "cell_type": "code",
   "execution_count": null,
   "metadata": {},
   "outputs": [],
   "source": []
  },
  {
   "cell_type": "markdown",
   "metadata": {},
   "source": [
    "#### Sample usage (on the whole first speech)"
   ]
  },
  {
   "cell_type": "code",
   "execution_count": 46,
   "metadata": {},
   "outputs": [
    {
     "data": {
      "text/plain": [
       "{'anticipation': 44,\n",
       " 'fear': 64,\n",
       " 'joy': 42,\n",
       " 'positive': 128,\n",
       " 'surprise': 25,\n",
       " 'trust': 69,\n",
       " 'anger': 42,\n",
       " 'disgust': 32,\n",
       " 'negative': 94,\n",
       " 'sadness': 51}"
      ]
     },
     "execution_count": 46,
     "metadata": {},
     "output_type": "execute_result"
    }
   ],
   "source": [
    "transcript = speech_df_raw.transcript.iloc[0]\n",
    "text_object = NRCLex(transcript)\n",
    "text_object.raw_emotion_scores"
   ]
  },
  {
   "cell_type": "code",
   "execution_count": 47,
   "metadata": {},
   "outputs": [
    {
     "data": {
      "text/plain": [
       "{'fear': 0.10829103214890017,\n",
       " 'anger': 0.07106598984771574,\n",
       " 'anticip': 0.0,\n",
       " 'trust': 0.116751269035533,\n",
       " 'surprise': 0.04230118443316413,\n",
       " 'sadness': 0.08629441624365482,\n",
       " 'disgust': 0.05414551607445008,\n",
       " 'joy': 0.07106598984771574,\n",
       " 'anticipation': 0.07445008460236886}"
      ]
     },
     "execution_count": 47,
     "metadata": {},
     "output_type": "execute_result"
    }
   ],
   "source": [
    "# Remove 'positive' and 'negative' from the emotions dictionary\n",
    "# Since they're too abstract\n",
    "emotions = text_object.affect_frequencies\n",
    "emotions.pop('positive',None)\n",
    "emotions.pop('negative',None)\n",
    "emotions"
   ]
  },
  {
   "cell_type": "code",
   "execution_count": 48,
   "metadata": {},
   "outputs": [
    {
     "data": {
      "text/plain": [
       "[('trust', 0.116751269035533),\n",
       " ('fear', 0.10829103214890017),\n",
       " ('sadness', 0.08629441624365482),\n",
       " ('anticipation', 0.07445008460236886),\n",
       " ('anger', 0.07106598984771574)]"
      ]
     },
     "execution_count": 48,
     "metadata": {},
     "output_type": "execute_result"
    }
   ],
   "source": [
    "sorted(emotions.items(), key=lambda x:x[1], reverse=True)[:5]"
   ]
  },
  {
   "cell_type": "code",
   "execution_count": null,
   "metadata": {},
   "outputs": [],
   "source": []
  },
  {
   "cell_type": "code",
   "execution_count": 55,
   "metadata": {},
   "outputs": [
    {
     "data": {
      "text/plain": [
       "{'disgust': 21,\n",
       " 'negative': 79,\n",
       " 'sadness': 43,\n",
       " 'anticipation': 64,\n",
       " 'fear': 51,\n",
       " 'joy': 60,\n",
       " 'positive': 124,\n",
       " 'surprise': 27,\n",
       " 'trust': 82,\n",
       " 'anger': 35}"
      ]
     },
     "execution_count": 55,
     "metadata": {},
     "output_type": "execute_result"
    }
   ],
   "source": [
    "transcript = speech_df_raw.transcript.iloc[1]\n",
    "text_object = NRCLex(transcript)\n",
    "text_object.raw_emotion_scores"
   ]
  },
  {
   "cell_type": "code",
   "execution_count": 50,
   "metadata": {},
   "outputs": [
    {
     "data": {
      "text/plain": [
       "{'fear': 0.08703071672354949,\n",
       " 'anger': 0.059726962457337884,\n",
       " 'anticip': 0.0,\n",
       " 'trust': 0.13993174061433447,\n",
       " 'surprise': 0.04607508532423208,\n",
       " 'sadness': 0.07337883959044368,\n",
       " 'disgust': 0.03583617747440273,\n",
       " 'joy': 0.10238907849829351,\n",
       " 'anticipation': 0.10921501706484642}"
      ]
     },
     "execution_count": 50,
     "metadata": {},
     "output_type": "execute_result"
    }
   ],
   "source": [
    "# Remove 'positive' and 'negative' from the emotions dictionary\n",
    "# Since they're too abstract\n",
    "emotions = text_object.affect_frequencies\n",
    "emotions.pop('positive',None)\n",
    "emotions.pop('negative',None)\n",
    "emotions"
   ]
  },
  {
   "cell_type": "code",
   "execution_count": 51,
   "metadata": {},
   "outputs": [
    {
     "data": {
      "text/plain": [
       "[('trust', 0.13993174061433447),\n",
       " ('anticipation', 0.10921501706484642),\n",
       " ('joy', 0.10238907849829351),\n",
       " ('fear', 0.08703071672354949),\n",
       " ('sadness', 0.07337883959044368)]"
      ]
     },
     "execution_count": 51,
     "metadata": {},
     "output_type": "execute_result"
    }
   ],
   "source": [
    "sorted(emotions.items(), key=lambda x:x[1], reverse=True)[:5]"
   ]
  },
  {
   "cell_type": "code",
   "execution_count": null,
   "metadata": {},
   "outputs": [],
   "source": []
  },
  {
   "cell_type": "code",
   "execution_count": 56,
   "metadata": {},
   "outputs": [],
   "source": [
    "emotion_score_list = []\n",
    "\n",
    "for i in range(len(speech_df_raw)):\n",
    "    transcript = speech_df_raw.transcript.iloc[i]\n",
    "    text_object = NRCLex(transcript)\n",
    "    emotion_score_list.append(text_object.raw_emotion_scores)"
   ]
  },
  {
   "cell_type": "code",
   "execution_count": 116,
   "metadata": {},
   "outputs": [
    {
     "data": {
      "text/html": [
       "<div>\n",
       "<style scoped>\n",
       "    .dataframe tbody tr th:only-of-type {\n",
       "        vertical-align: middle;\n",
       "    }\n",
       "\n",
       "    .dataframe tbody tr th {\n",
       "        vertical-align: top;\n",
       "    }\n",
       "\n",
       "    .dataframe thead th {\n",
       "        text-align: right;\n",
       "    }\n",
       "</style>\n",
       "<table border=\"1\" class=\"dataframe\">\n",
       "  <thead>\n",
       "    <tr style=\"text-align: right;\">\n",
       "      <th></th>\n",
       "      <th>anticipation</th>\n",
       "      <th>fear</th>\n",
       "      <th>joy</th>\n",
       "      <th>positive</th>\n",
       "      <th>surprise</th>\n",
       "      <th>trust</th>\n",
       "      <th>anger</th>\n",
       "      <th>disgust</th>\n",
       "      <th>negative</th>\n",
       "      <th>sadness</th>\n",
       "    </tr>\n",
       "  </thead>\n",
       "  <tbody>\n",
       "    <tr>\n",
       "      <th>0</th>\n",
       "      <td>44.0</td>\n",
       "      <td>64.0</td>\n",
       "      <td>42.0</td>\n",
       "      <td>128.0</td>\n",
       "      <td>25.0</td>\n",
       "      <td>69</td>\n",
       "      <td>42.0</td>\n",
       "      <td>32.0</td>\n",
       "      <td>94.0</td>\n",
       "      <td>51.0</td>\n",
       "    </tr>\n",
       "    <tr>\n",
       "      <th>1</th>\n",
       "      <td>64.0</td>\n",
       "      <td>51.0</td>\n",
       "      <td>60.0</td>\n",
       "      <td>124.0</td>\n",
       "      <td>27.0</td>\n",
       "      <td>82</td>\n",
       "      <td>35.0</td>\n",
       "      <td>21.0</td>\n",
       "      <td>79.0</td>\n",
       "      <td>43.0</td>\n",
       "    </tr>\n",
       "    <tr>\n",
       "      <th>2</th>\n",
       "      <td>53.0</td>\n",
       "      <td>19.0</td>\n",
       "      <td>44.0</td>\n",
       "      <td>98.0</td>\n",
       "      <td>18.0</td>\n",
       "      <td>63</td>\n",
       "      <td>9.0</td>\n",
       "      <td>8.0</td>\n",
       "      <td>27.0</td>\n",
       "      <td>22.0</td>\n",
       "    </tr>\n",
       "    <tr>\n",
       "      <th>3</th>\n",
       "      <td>72.0</td>\n",
       "      <td>38.0</td>\n",
       "      <td>62.0</td>\n",
       "      <td>163.0</td>\n",
       "      <td>35.0</td>\n",
       "      <td>119</td>\n",
       "      <td>32.0</td>\n",
       "      <td>20.0</td>\n",
       "      <td>64.0</td>\n",
       "      <td>31.0</td>\n",
       "    </tr>\n",
       "    <tr>\n",
       "      <th>4</th>\n",
       "      <td>94.0</td>\n",
       "      <td>32.0</td>\n",
       "      <td>73.0</td>\n",
       "      <td>203.0</td>\n",
       "      <td>33.0</td>\n",
       "      <td>94</td>\n",
       "      <td>26.0</td>\n",
       "      <td>17.0</td>\n",
       "      <td>70.0</td>\n",
       "      <td>39.0</td>\n",
       "    </tr>\n",
       "  </tbody>\n",
       "</table>\n",
       "</div>"
      ],
      "text/plain": [
       "   anticipation  fear   joy  positive  surprise  trust  anger  disgust  \\\n",
       "0          44.0  64.0  42.0     128.0      25.0     69   42.0     32.0   \n",
       "1          64.0  51.0  60.0     124.0      27.0     82   35.0     21.0   \n",
       "2          53.0  19.0  44.0      98.0      18.0     63    9.0      8.0   \n",
       "3          72.0  38.0  62.0     163.0      35.0    119   32.0     20.0   \n",
       "4          94.0  32.0  73.0     203.0      33.0     94   26.0     17.0   \n",
       "\n",
       "   negative  sadness  \n",
       "0      94.0     51.0  \n",
       "1      79.0     43.0  \n",
       "2      27.0     22.0  \n",
       "3      64.0     31.0  \n",
       "4      70.0     39.0  "
      ]
     },
     "execution_count": 116,
     "metadata": {},
     "output_type": "execute_result"
    }
   ],
   "source": [
    "emotion_score_df = pd.DataFrame(emotion_score_list)\n",
    "emotion_score_df.head()"
   ]
  },
  {
   "cell_type": "code",
   "execution_count": 117,
   "metadata": {},
   "outputs": [
    {
     "data": {
      "text/html": [
       "<div>\n",
       "<style scoped>\n",
       "    .dataframe tbody tr th:only-of-type {\n",
       "        vertical-align: middle;\n",
       "    }\n",
       "\n",
       "    .dataframe tbody tr th {\n",
       "        vertical-align: top;\n",
       "    }\n",
       "\n",
       "    .dataframe thead th {\n",
       "        text-align: right;\n",
       "    }\n",
       "</style>\n",
       "<table border=\"1\" class=\"dataframe\">\n",
       "  <thead>\n",
       "    <tr style=\"text-align: right;\">\n",
       "      <th></th>\n",
       "      <th>anticipation</th>\n",
       "      <th>fear</th>\n",
       "      <th>joy</th>\n",
       "      <th>positive</th>\n",
       "      <th>surprise</th>\n",
       "      <th>trust</th>\n",
       "      <th>anger</th>\n",
       "      <th>disgust</th>\n",
       "      <th>negative</th>\n",
       "      <th>sadness</th>\n",
       "      <th>total</th>\n",
       "    </tr>\n",
       "  </thead>\n",
       "  <tbody>\n",
       "    <tr>\n",
       "      <th>0</th>\n",
       "      <td>0.074450</td>\n",
       "      <td>0.108291</td>\n",
       "      <td>0.071066</td>\n",
       "      <td>0.216582</td>\n",
       "      <td>0.042301</td>\n",
       "      <td>0.116751</td>\n",
       "      <td>0.071066</td>\n",
       "      <td>0.054146</td>\n",
       "      <td>0.159052</td>\n",
       "      <td>0.086294</td>\n",
       "      <td>1.0</td>\n",
       "    </tr>\n",
       "    <tr>\n",
       "      <th>1</th>\n",
       "      <td>0.109215</td>\n",
       "      <td>0.087031</td>\n",
       "      <td>0.102389</td>\n",
       "      <td>0.211604</td>\n",
       "      <td>0.046075</td>\n",
       "      <td>0.139932</td>\n",
       "      <td>0.059727</td>\n",
       "      <td>0.035836</td>\n",
       "      <td>0.134812</td>\n",
       "      <td>0.073379</td>\n",
       "      <td>1.0</td>\n",
       "    </tr>\n",
       "    <tr>\n",
       "      <th>2</th>\n",
       "      <td>0.146814</td>\n",
       "      <td>0.052632</td>\n",
       "      <td>0.121884</td>\n",
       "      <td>0.271468</td>\n",
       "      <td>0.049861</td>\n",
       "      <td>0.174515</td>\n",
       "      <td>0.024931</td>\n",
       "      <td>0.022161</td>\n",
       "      <td>0.074792</td>\n",
       "      <td>0.060942</td>\n",
       "      <td>1.0</td>\n",
       "    </tr>\n",
       "    <tr>\n",
       "      <th>3</th>\n",
       "      <td>0.113208</td>\n",
       "      <td>0.059748</td>\n",
       "      <td>0.097484</td>\n",
       "      <td>0.256289</td>\n",
       "      <td>0.055031</td>\n",
       "      <td>0.187107</td>\n",
       "      <td>0.050314</td>\n",
       "      <td>0.031447</td>\n",
       "      <td>0.100629</td>\n",
       "      <td>0.048742</td>\n",
       "      <td>1.0</td>\n",
       "    </tr>\n",
       "    <tr>\n",
       "      <th>4</th>\n",
       "      <td>0.138032</td>\n",
       "      <td>0.046990</td>\n",
       "      <td>0.107195</td>\n",
       "      <td>0.298091</td>\n",
       "      <td>0.048458</td>\n",
       "      <td>0.138032</td>\n",
       "      <td>0.038179</td>\n",
       "      <td>0.024963</td>\n",
       "      <td>0.102790</td>\n",
       "      <td>0.057269</td>\n",
       "      <td>1.0</td>\n",
       "    </tr>\n",
       "    <tr>\n",
       "      <th>...</th>\n",
       "      <td>...</td>\n",
       "      <td>...</td>\n",
       "      <td>...</td>\n",
       "      <td>...</td>\n",
       "      <td>...</td>\n",
       "      <td>...</td>\n",
       "      <td>...</td>\n",
       "      <td>...</td>\n",
       "      <td>...</td>\n",
       "      <td>...</td>\n",
       "      <td>...</td>\n",
       "    </tr>\n",
       "    <tr>\n",
       "      <th>437</th>\n",
       "      <td>0.129222</td>\n",
       "      <td>0.061674</td>\n",
       "      <td>0.077827</td>\n",
       "      <td>0.293686</td>\n",
       "      <td>0.049927</td>\n",
       "      <td>0.157122</td>\n",
       "      <td>0.032305</td>\n",
       "      <td>0.030837</td>\n",
       "      <td>0.110132</td>\n",
       "      <td>0.057269</td>\n",
       "      <td>1.0</td>\n",
       "    </tr>\n",
       "    <tr>\n",
       "      <th>438</th>\n",
       "      <td>0.095599</td>\n",
       "      <td>0.080425</td>\n",
       "      <td>0.086495</td>\n",
       "      <td>0.257967</td>\n",
       "      <td>0.050076</td>\n",
       "      <td>0.151745</td>\n",
       "      <td>0.069803</td>\n",
       "      <td>0.037936</td>\n",
       "      <td>0.113809</td>\n",
       "      <td>0.056146</td>\n",
       "      <td>1.0</td>\n",
       "    </tr>\n",
       "    <tr>\n",
       "      <th>439</th>\n",
       "      <td>0.100045</td>\n",
       "      <td>0.054078</td>\n",
       "      <td>0.123479</td>\n",
       "      <td>0.255521</td>\n",
       "      <td>0.056782</td>\n",
       "      <td>0.165840</td>\n",
       "      <td>0.047769</td>\n",
       "      <td>0.027941</td>\n",
       "      <td>0.114015</td>\n",
       "      <td>0.054529</td>\n",
       "      <td>1.0</td>\n",
       "    </tr>\n",
       "    <tr>\n",
       "      <th>440</th>\n",
       "      <td>0.095628</td>\n",
       "      <td>0.068306</td>\n",
       "      <td>0.120219</td>\n",
       "      <td>0.232240</td>\n",
       "      <td>0.060109</td>\n",
       "      <td>0.142077</td>\n",
       "      <td>0.051913</td>\n",
       "      <td>0.051913</td>\n",
       "      <td>0.112022</td>\n",
       "      <td>0.065574</td>\n",
       "      <td>1.0</td>\n",
       "    </tr>\n",
       "    <tr>\n",
       "      <th>avg</th>\n",
       "      <td>0.123816</td>\n",
       "      <td>0.064931</td>\n",
       "      <td>0.106941</td>\n",
       "      <td>0.261744</td>\n",
       "      <td>0.054086</td>\n",
       "      <td>0.157162</td>\n",
       "      <td>0.045661</td>\n",
       "      <td>0.029951</td>\n",
       "      <td>0.105766</td>\n",
       "      <td>0.054436</td>\n",
       "      <td>1.0</td>\n",
       "    </tr>\n",
       "  </tbody>\n",
       "</table>\n",
       "<p>442 rows × 11 columns</p>\n",
       "</div>"
      ],
      "text/plain": [
       "     anticipation      fear       joy  positive  surprise     trust     anger  \\\n",
       "0        0.074450  0.108291  0.071066  0.216582  0.042301  0.116751  0.071066   \n",
       "1        0.109215  0.087031  0.102389  0.211604  0.046075  0.139932  0.059727   \n",
       "2        0.146814  0.052632  0.121884  0.271468  0.049861  0.174515  0.024931   \n",
       "3        0.113208  0.059748  0.097484  0.256289  0.055031  0.187107  0.050314   \n",
       "4        0.138032  0.046990  0.107195  0.298091  0.048458  0.138032  0.038179   \n",
       "..            ...       ...       ...       ...       ...       ...       ...   \n",
       "437      0.129222  0.061674  0.077827  0.293686  0.049927  0.157122  0.032305   \n",
       "438      0.095599  0.080425  0.086495  0.257967  0.050076  0.151745  0.069803   \n",
       "439      0.100045  0.054078  0.123479  0.255521  0.056782  0.165840  0.047769   \n",
       "440      0.095628  0.068306  0.120219  0.232240  0.060109  0.142077  0.051913   \n",
       "avg      0.123816  0.064931  0.106941  0.261744  0.054086  0.157162  0.045661   \n",
       "\n",
       "      disgust  negative   sadness  total  \n",
       "0    0.054146  0.159052  0.086294    1.0  \n",
       "1    0.035836  0.134812  0.073379    1.0  \n",
       "2    0.022161  0.074792  0.060942    1.0  \n",
       "3    0.031447  0.100629  0.048742    1.0  \n",
       "4    0.024963  0.102790  0.057269    1.0  \n",
       "..        ...       ...       ...    ...  \n",
       "437  0.030837  0.110132  0.057269    1.0  \n",
       "438  0.037936  0.113809  0.056146    1.0  \n",
       "439  0.027941  0.114015  0.054529    1.0  \n",
       "440  0.051913  0.112022  0.065574    1.0  \n",
       "avg  0.029951  0.105766  0.054436    1.0  \n",
       "\n",
       "[442 rows x 11 columns]"
      ]
     },
     "execution_count": 117,
     "metadata": {},
     "output_type": "execute_result"
    }
   ],
   "source": [
    "# Normalize the score\n",
    "emotion_score_df['total'] = emotion_score_df.sum(axis=1)\n",
    "emotion_score_df= emotion_score_df.div(emotion_score_df['total'],axis=0)\n",
    "emotion_score_df.loc['avg'] = emotion_score_df.mean(axis=0)\n",
    "emotion_score_df"
   ]
  },
  {
   "cell_type": "code",
   "execution_count": 161,
   "metadata": {},
   "outputs": [],
   "source": [
    "# Quick plot\n",
    "# emotion_score_df.iloc[:,:-1].mean(axis=0).sort_values().plot.barh(sort_columns=False);"
   ]
  },
  {
   "cell_type": "code",
   "execution_count": 160,
   "metadata": {},
   "outputs": [
    {
     "data": {
      "image/png": "[encoded data removed]",
      "text/plain": [
       "<Figure size 432x288 with 1 Axes>"
      ]
     },
     "metadata": {},
     "output_type": "display_data"
    }
   ],
   "source": [
    "# Plot with sns\n",
    "\n",
    "fig, ax = plt.subplots()\n",
    "colors = ['red' if (y in ['positive','trust','joy','anticipation','surprise']) else 'grey'\n",
    "          for y in emotion_score_df.iloc[:,:-1].mean(axis=0).sort_values(ascending=False).index]\n",
    "sns.barplot(x=emotion_score_df.iloc[-1,:-1],y=emotion_score_df.columns[:-1],\\\n",
    "           order=emotion_score_df.iloc[:,:-1].mean(axis=0).sort_values(ascending=False).index,\\\n",
    "           palette = colors)\n",
    "\n",
    "ax.set_title('Averaged emotion scores',fontsize=20)\n",
    "ax.set_ylabel('Emotion',fontsize=20)\n",
    "ax.set_xlabel('Avg score',fontsize=20)\n",
    "plt.xticks(fontsize=18)\n",
    "plt.yticks(fontsize=14);"
   ]
  },
  {
   "cell_type": "code",
   "execution_count": null,
   "metadata": {},
   "outputs": [],
   "source": []
  },
  {
   "cell_type": "code",
   "execution_count": null,
   "metadata": {},
   "outputs": [],
   "source": []
  }
 ],
 "metadata": {
  "kernelspec": {
   "display_name": "Python 3",
   "language": "python",
   "name": "python3"
  },
  "language_info": {
   "codemirror_mode": {
    "name": "ipython",
    "version": 3
   },
   "file_extension": ".py",
   "mimetype": "text/x-python",
   "name": "python",
   "nbconvert_exporter": "python",
   "pygments_lexer": "ipython3",
   "version": "3.8.5"
  }
 },
 "nbformat": 4,
 "nbformat_minor": 4
}
